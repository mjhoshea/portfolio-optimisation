{
 "cells": [
  {
   "cell_type": "code",
   "execution_count": 5,
   "id": "whole-provincial",
   "metadata": {},
   "outputs": [],
   "source": [
    "import sys\n",
    "import os\n",
    "\n",
    "import sys\n",
    "sys.path.insert(0, os.path.abspath('../src/mpt/efficient_frontier'))\n",
    "sys.path.insert(0, os.path.abspath('../src/mpt/utils'))"
   ]
  },
  {
   "cell_type": "code",
   "execution_count": 6,
   "id": "banned-validity",
   "metadata": {},
   "outputs": [],
   "source": [
    "import pandas as pd\n",
    "import numpy as np\n",
    "import matplotlib.pyplot as plt\n",
    "\n",
    "from EfficientFrontier import EfficientFrontier"
   ]
  },
  {
   "cell_type": "code",
   "execution_count": 8,
   "id": "unknown-uzbekistan",
   "metadata": {},
   "outputs": [],
   "source": [
    "plt.rcParams[\"figure.figsize\"] = (11,7)"
   ]
  },
  {
   "cell_type": "markdown",
   "id": "consistent-difference",
   "metadata": {},
   "source": [
    "# Processing Data"
   ]
  },
  {
   "cell_type": "code",
   "execution_count": 9,
   "id": "searching-mathematics",
   "metadata": {},
   "outputs": [],
   "source": [
    "aapl_df = pd.read_csv('../data/yahoo/16-03-21/AAPL.csv')\n",
    "amzn_df = pd.read_csv('../data/yahoo/16-03-21/AMZN.csv')\n",
    "fb_df = pd.read_csv('../data/yahoo/16-03-21/FB.csv')\n",
    "gm_df = pd.read_csv('../data/yahoo/16-03-21/GM.csv')\n",
    "goog_df = pd.read_csv('../data/yahoo/16-03-21/GOOG.csv')\n",
    "jpm_df = pd.read_csv('../data/yahoo/16-03-21/JPM.csv')\n",
    "bp_df = pd.read_csv('../data/yahoo/16-03-21/BP.csv')\n",
    "tsla_df = pd.read_csv('../data/yahoo/16-03-21/TSLA.csv')"
   ]
  },
  {
   "cell_type": "code",
   "execution_count": 10,
   "id": "serial-territory",
   "metadata": {},
   "outputs": [],
   "source": [
    "returns_df = pd.DataFrame(columns=['AAPL', 'AMZN', 'FB', 'GM', 'GOOG', 'JPM', 'BP', 'TSLA'])\n",
    "returns_df['AAPL'] = aapl_df['Close'].pct_change()[1:]\n",
    "returns_df['AMZN'] = amzn_df['Close'].pct_change()[1:]\n",
    "returns_df['FB'] = fb_df['Close'].pct_change()[1:]\n",
    "returns_df['GM'] = gm_df['Close'].pct_change()[1:]\n",
    "returns_df['GOOG'] = goog_df['Close'].pct_change()[1:]\n",
    "returns_df['JPM'] = jpm_df['Close'].pct_change()[1:]\n",
    "returns_df['BP'] = bp_df['Close'].pct_change()[1:]\n",
    "returns_df['TSLA'] = tsla_df['Close'].pct_change()[1:]"
   ]
  },
  {
   "cell_type": "code",
   "execution_count": 11,
   "id": "alien-species",
   "metadata": {},
   "outputs": [
    {
     "data": {
      "text/plain": [
       "AAPL    0\n",
       "AMZN    0\n",
       "FB      0\n",
       "GM      0\n",
       "GOOG    0\n",
       "JPM     0\n",
       "BP      0\n",
       "TSLA    0\n",
       "dtype: int64"
      ]
     },
     "execution_count": 11,
     "metadata": {},
     "output_type": "execute_result"
    }
   ],
   "source": [
    "# check there is no missing returns data\n",
    "len(returns_df) - returns_df.count()"
   ]
  },
  {
   "cell_type": "code",
   "execution_count": 12,
   "id": "cathedral-memorabilia",
   "metadata": {},
   "outputs": [
    {
     "data": {
      "text/plain": [
       "AAPL    0.003208\n",
       "AMZN    0.002648\n",
       "FB      0.002927\n",
       "GM      0.004641\n",
       "GOOG    0.002840\n",
       "JPM     0.002593\n",
       "BP      0.001907\n",
       "TSLA    0.009465\n",
       "dtype: float64"
      ]
     },
     "execution_count": 12,
     "metadata": {},
     "output_type": "execute_result"
    }
   ],
   "source": [
    "returns_df.mean()"
   ]
  },
  {
   "cell_type": "code",
   "execution_count": 13,
   "id": "recognized-comedy",
   "metadata": {},
   "outputs": [
    {
     "data": {
      "text/plain": [
       "AAPL    0.320791\n",
       "AMZN    0.264840\n",
       "FB      0.292660\n",
       "GM      0.464147\n",
       "GOOG    0.283992\n",
       "JPM     0.259350\n",
       "BP      0.190677\n",
       "TSLA    0.946511\n",
       "dtype: float64"
      ]
     },
     "execution_count": 13,
     "metadata": {},
     "output_type": "execute_result"
    }
   ],
   "source": [
    "(returns_df*100).mean()"
   ]
  },
  {
   "cell_type": "code",
   "execution_count": 14,
   "id": "swiss-witness",
   "metadata": {},
   "outputs": [],
   "source": [
    "Σ = returns_df.cov()"
   ]
  },
  {
   "cell_type": "code",
   "execution_count": 15,
   "id": "adequate-building",
   "metadata": {},
   "outputs": [],
   "source": [
    "Σ = np.array(Σ)"
   ]
  },
  {
   "cell_type": "code",
   "execution_count": 16,
   "id": "respected-improvement",
   "metadata": {},
   "outputs": [
    {
     "data": {
      "text/html": [
       "<div>\n",
       "<style scoped>\n",
       "    .dataframe tbody tr th:only-of-type {\n",
       "        vertical-align: middle;\n",
       "    }\n",
       "\n",
       "    .dataframe tbody tr th {\n",
       "        vertical-align: top;\n",
       "    }\n",
       "\n",
       "    .dataframe thead th {\n",
       "        text-align: right;\n",
       "    }\n",
       "</style>\n",
       "<table border=\"1\" class=\"dataframe\">\n",
       "  <thead>\n",
       "    <tr style=\"text-align: right;\">\n",
       "      <th></th>\n",
       "      <th>AAPL</th>\n",
       "      <th>AMZN</th>\n",
       "      <th>FB</th>\n",
       "      <th>GM</th>\n",
       "      <th>GOOG</th>\n",
       "      <th>JPM</th>\n",
       "      <th>BP</th>\n",
       "      <th>TSLA</th>\n",
       "    </tr>\n",
       "  </thead>\n",
       "  <tbody>\n",
       "    <tr>\n",
       "      <th>1</th>\n",
       "      <td>0.043970</td>\n",
       "      <td>0.070266</td>\n",
       "      <td>0.023355</td>\n",
       "      <td>-0.032381</td>\n",
       "      <td>0.032712</td>\n",
       "      <td>0.061114</td>\n",
       "      <td>0.000000</td>\n",
       "      <td>-0.033410</td>\n",
       "    </tr>\n",
       "    <tr>\n",
       "      <th>2</th>\n",
       "      <td>-0.024480</td>\n",
       "      <td>0.012258</td>\n",
       "      <td>-0.016464</td>\n",
       "      <td>-0.173228</td>\n",
       "      <td>-0.020539</td>\n",
       "      <td>-0.105269</td>\n",
       "      <td>-0.144904</td>\n",
       "      <td>-0.160344</td>\n",
       "    </tr>\n",
       "    <tr>\n",
       "      <th>3</th>\n",
       "      <td>-0.007662</td>\n",
       "      <td>0.027831</td>\n",
       "      <td>0.041984</td>\n",
       "      <td>0.054167</td>\n",
       "      <td>0.016858</td>\n",
       "      <td>0.016808</td>\n",
       "      <td>0.055245</td>\n",
       "      <td>0.183877</td>\n",
       "    </tr>\n",
       "    <tr>\n",
       "      <th>4</th>\n",
       "      <td>-0.063486</td>\n",
       "      <td>-0.018523</td>\n",
       "      <td>-0.022203</td>\n",
       "      <td>0.024280</td>\n",
       "      <td>-0.038528</td>\n",
       "      <td>-0.021102</td>\n",
       "      <td>0.022941</td>\n",
       "      <td>-0.000257</td>\n",
       "    </tr>\n",
       "    <tr>\n",
       "      <th>5</th>\n",
       "      <td>-0.021244</td>\n",
       "      <td>0.030735</td>\n",
       "      <td>-0.010886</td>\n",
       "      <td>-0.029768</td>\n",
       "      <td>-0.014641</td>\n",
       "      <td>-0.053533</td>\n",
       "      <td>0.046004</td>\n",
       "      <td>0.015812</td>\n",
       "    </tr>\n",
       "    <tr>\n",
       "      <th>...</th>\n",
       "      <td>...</td>\n",
       "      <td>...</td>\n",
       "      <td>...</td>\n",
       "      <td>...</td>\n",
       "      <td>...</td>\n",
       "      <td>...</td>\n",
       "      <td>...</td>\n",
       "      <td>...</td>\n",
       "    </tr>\n",
       "    <tr>\n",
       "      <th>248</th>\n",
       "      <td>-0.009167</td>\n",
       "      <td>-0.001701</td>\n",
       "      <td>-0.003161</td>\n",
       "      <td>0.039890</td>\n",
       "      <td>0.001135</td>\n",
       "      <td>0.021735</td>\n",
       "      <td>0.020682</td>\n",
       "      <td>-0.008195</td>\n",
       "    </tr>\n",
       "    <tr>\n",
       "      <th>249</th>\n",
       "      <td>0.016503</td>\n",
       "      <td>0.018298</td>\n",
       "      <td>0.033900</td>\n",
       "      <td>-0.008798</td>\n",
       "      <td>0.029070</td>\n",
       "      <td>-0.005221</td>\n",
       "      <td>0.000000</td>\n",
       "      <td>0.047211</td>\n",
       "    </tr>\n",
       "    <tr>\n",
       "      <th>250</th>\n",
       "      <td>-0.007625</td>\n",
       "      <td>-0.007740</td>\n",
       "      <td>-0.020009</td>\n",
       "      <td>0.052015</td>\n",
       "      <td>-0.024991</td>\n",
       "      <td>0.011858</td>\n",
       "      <td>0.011632</td>\n",
       "      <td>-0.008391</td>\n",
       "    </tr>\n",
       "    <tr>\n",
       "      <th>251</th>\n",
       "      <td>0.000000</td>\n",
       "      <td>0.000000</td>\n",
       "      <td>0.000000</td>\n",
       "      <td>0.000000</td>\n",
       "      <td>0.000000</td>\n",
       "      <td>0.000000</td>\n",
       "      <td>-0.017433</td>\n",
       "      <td>0.000000</td>\n",
       "    </tr>\n",
       "    <tr>\n",
       "      <th>252</th>\n",
       "      <td>0.037635</td>\n",
       "      <td>0.001482</td>\n",
       "      <td>0.048100</td>\n",
       "      <td>-0.030121</td>\n",
       "      <td>0.016422</td>\n",
       "      <td>-0.014409</td>\n",
       "      <td>-0.014802</td>\n",
       "      <td>-0.005622</td>\n",
       "    </tr>\n",
       "  </tbody>\n",
       "</table>\n",
       "<p>252 rows × 8 columns</p>\n",
       "</div>"
      ],
      "text/plain": [
       "         AAPL      AMZN        FB        GM      GOOG       JPM        BP  \\\n",
       "1    0.043970  0.070266  0.023355 -0.032381  0.032712  0.061114  0.000000   \n",
       "2   -0.024480  0.012258 -0.016464 -0.173228 -0.020539 -0.105269 -0.144904   \n",
       "3   -0.007662  0.027831  0.041984  0.054167  0.016858  0.016808  0.055245   \n",
       "4   -0.063486 -0.018523 -0.022203  0.024280 -0.038528 -0.021102  0.022941   \n",
       "5   -0.021244  0.030735 -0.010886 -0.029768 -0.014641 -0.053533  0.046004   \n",
       "..        ...       ...       ...       ...       ...       ...       ...   \n",
       "248 -0.009167 -0.001701 -0.003161  0.039890  0.001135  0.021735  0.020682   \n",
       "249  0.016503  0.018298  0.033900 -0.008798  0.029070 -0.005221  0.000000   \n",
       "250 -0.007625 -0.007740 -0.020009  0.052015 -0.024991  0.011858  0.011632   \n",
       "251  0.000000  0.000000  0.000000  0.000000  0.000000  0.000000 -0.017433   \n",
       "252  0.037635  0.001482  0.048100 -0.030121  0.016422 -0.014409 -0.014802   \n",
       "\n",
       "         TSLA  \n",
       "1   -0.033410  \n",
       "2   -0.160344  \n",
       "3    0.183877  \n",
       "4   -0.000257  \n",
       "5    0.015812  \n",
       "..        ...  \n",
       "248 -0.008195  \n",
       "249  0.047211  \n",
       "250 -0.008391  \n",
       "251  0.000000  \n",
       "252 -0.005622  \n",
       "\n",
       "[252 rows x 8 columns]"
      ]
     },
     "execution_count": 16,
     "metadata": {},
     "output_type": "execute_result"
    }
   ],
   "source": [
    "returns_df"
   ]
  },
  {
   "cell_type": "code",
   "execution_count": 17,
   "id": "endless-requirement",
   "metadata": {},
   "outputs": [],
   "source": [
    "μ = returns_df.mean(axis=0)"
   ]
  },
  {
   "cell_type": "code",
   "execution_count": 18,
   "id": "behind-arizona",
   "metadata": {},
   "outputs": [],
   "source": [
    "μ = np.array(μ)"
   ]
  },
  {
   "cell_type": "code",
   "execution_count": 19,
   "id": "operating-sensitivity",
   "metadata": {},
   "outputs": [
    {
     "data": {
      "text/plain": [
       "array([0.00320791, 0.0026484 , 0.0029266 , 0.00464147, 0.00283992,\n",
       "       0.0025935 , 0.00190677, 0.00946511])"
      ]
     },
     "execution_count": 19,
     "metadata": {},
     "output_type": "execute_result"
    }
   ],
   "source": [
    "μ"
   ]
  },
  {
   "cell_type": "markdown",
   "id": "inclusive-record",
   "metadata": {},
   "source": [
    "# Visualising the data"
   ]
  },
  {
   "cell_type": "code",
   "execution_count": 20,
   "id": "personalized-banks",
   "metadata": {},
   "outputs": [
    {
     "name": "stderr",
     "output_type": "stream",
     "text": [
      "<ipython-input-20-b610d1420e7e>:2: RuntimeWarning: invalid value encountered in sqrt\n",
      "  plt.scatter(np.sqrt(Σ).diagonal(), μ, marker='x', color='red', s=100)\n"
     ]
    },
    {
     "data": {
      "image/png": "[encoded data removed]",
      "text/plain": [
       "<Figure size 792x504 with 1 Axes>"
      ]
     },
     "metadata": {
      "needs_background": "light"
     },
     "output_type": "display_data"
    }
   ],
   "source": [
    "plt.title('Securities in Mean-Variance Space')\n",
    "plt.scatter(np.sqrt(Σ).diagonal(), μ, marker='x', color='red', s=100)\n",
    "plt.ylabel('$r_\\pi$', size=14)\n",
    "plt.xlabel('$\\sigma_\\pi$', size=14)\n",
    "plt.show()\n"
   ]
  },
  {
   "cell_type": "markdown",
   "id": "genuine-wayne",
   "metadata": {},
   "source": [
    "# Plotting the Efficient EfficientFrontier"
   ]
  },
  {
   "cell_type": "code",
   "execution_count": 21,
   "id": "atmospheric-signature",
   "metadata": {},
   "outputs": [],
   "source": [
    "ef = EfficientFrontier.from_sample_statistics(np.array(μ), np.array(Σ))"
   ]
  },
  {
   "cell_type": "code",
   "execution_count": 22,
   "id": "referenced-moment",
   "metadata": {},
   "outputs": [
    {
     "data": {
      "image/png": "[encoded data removed]",
      "text/plain": [
       "<Figure size 792x504 with 1 Axes>"
      ]
     },
     "metadata": {
      "needs_background": "light"
     },
     "output_type": "display_data"
    }
   ],
   "source": [
    "ef.plot_frontier(allow_shorts=False, allow_lending=False)"
   ]
  }
 ],
 "metadata": {
  "kernelspec": {
   "display_name": "Python 3",
   "language": "python",
   "name": "python3"
  },
  "language_info": {
   "codemirror_mode": {
    "name": "ipython",
    "version": 3
   },
   "file_extension": ".py",
   "mimetype": "text/x-python",
   "name": "python",
   "nbconvert_exporter": "python",
   "pygments_lexer": "ipython3",
   "version": "3.8.7"
  }
 },
 "nbformat": 4,
 "nbformat_minor": 5
}
