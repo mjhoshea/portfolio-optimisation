{
 "cells": [
  {
   "cell_type": "code",
   "execution_count": 81,
   "id": "hispanic-thompson",
   "metadata": {},
   "outputs": [],
   "source": [
    "import sys\n",
    "import os\n",
    "\n",
    "import sys\n",
    "sys.path.insert(0, os.path.abspath('../../src/mpt/efficient_frontier/'))\n",
    "sys.path.insert(1, os.path.abspath('../../src/mpt/utils'))\n",
    "sys.path.insert(2, os.path.abspath('../../src/yahoo'))"
   ]
  },
  {
   "cell_type": "code",
   "execution_count": 92,
   "id": "documented-pollution",
   "metadata": {},
   "outputs": [],
   "source": [
    "import pandas as pd\n",
    "import numpy as np\n",
    "import matplotlib.pyplot as plt\n",
    "plt.style.use(['science', 'retro', 'grid'])\n",
    "\n",
    "from EfficientFrontier import EfficientFrontier\n",
    "from MarketFactory import MarketFactory"
   ]
  },
  {
   "cell_type": "code",
   "execution_count": 93,
   "id": "auburn-teens",
   "metadata": {},
   "outputs": [
    {
     "data": {
      "text/plain": [
       "<module 'MarketFactory' from '/Users/michael/UCL/Disertation/porfolio-optimisation/src/yahoo/MarketFactory.py'>"
      ]
     },
     "execution_count": 93,
     "metadata": {},
     "output_type": "execute_result"
    }
   ],
   "source": [
    "import importlib\n",
    "importlib.reload(sys.modules['MarketFactory'])"
   ]
  },
  {
   "cell_type": "code",
   "execution_count": 94,
   "id": "incorporated-ultimate",
   "metadata": {},
   "outputs": [],
   "source": [
    "plt.rcParams[\"figure.figsize\"] = (11,7)"
   ]
  },
  {
   "cell_type": "markdown",
   "id": "sunset-doctor",
   "metadata": {},
   "source": [
    "# Processing Data"
   ]
  },
  {
   "cell_type": "code",
   "execution_count": 115,
   "id": "oriental-corner",
   "metadata": {},
   "outputs": [],
   "source": [
    "import yfinance as yf"
   ]
  },
  {
   "cell_type": "code",
   "execution_count": 116,
   "id": "genetic-chaos",
   "metadata": {},
   "outputs": [],
   "source": [
    "stocks = ['AAPL',  'AMZN']\n",
    "factory = MarketFactory(stocks, \"2017-01-01\", \"2017-04-30\")"
   ]
  },
  {
   "cell_type": "code",
   "execution_count": 117,
   "id": "pharmaceutical-bubble",
   "metadata": {},
   "outputs": [
    {
     "name": "stdout",
     "output_type": "stream",
     "text": [
      "[*********************100%***********************]  2 of 2 completed\n",
      "AAPL\n",
      "AMZN\n",
      "[[8.18986042e-05 2.60909782e-05]\n",
      " [2.60909782e-05 8.65905121e-05]]\n"
     ]
    }
   ],
   "source": [
    "factory.create_market()"
   ]
  },
  {
   "cell_type": "code",
   "execution_count": null,
   "id": "informational-norwegian",
   "metadata": {},
   "outputs": [],
   "source": [
    "data = yf.download(\"AAPL AMZN\", \"2017-01-01\", \"2017-04-30\")"
   ]
  },
  {
   "cell_type": "code",
   "execution_count": 45,
   "id": "generic-pencil",
   "metadata": {},
   "outputs": [
    {
     "data": {
      "text/html": [
       "<div>\n",
       "<style scoped>\n",
       "    .dataframe tbody tr th:only-of-type {\n",
       "        vertical-align: middle;\n",
       "    }\n",
       "\n",
       "    .dataframe tbody tr th {\n",
       "        vertical-align: top;\n",
       "    }\n",
       "\n",
       "    .dataframe thead tr th {\n",
       "        text-align: left;\n",
       "    }\n",
       "\n",
       "    .dataframe thead tr:last-of-type th {\n",
       "        text-align: right;\n",
       "    }\n",
       "</style>\n",
       "<table border=\"1\" class=\"dataframe\">\n",
       "  <thead>\n",
       "    <tr>\n",
       "      <th></th>\n",
       "      <th colspan=\"2\" halign=\"left\">Adj Close</th>\n",
       "      <th colspan=\"2\" halign=\"left\">Close</th>\n",
       "      <th colspan=\"2\" halign=\"left\">High</th>\n",
       "      <th colspan=\"2\" halign=\"left\">Low</th>\n",
       "      <th colspan=\"2\" halign=\"left\">Open</th>\n",
       "      <th colspan=\"2\" halign=\"left\">Volume</th>\n",
       "    </tr>\n",
       "    <tr>\n",
       "      <th></th>\n",
       "      <th>AAPL</th>\n",
       "      <th>AMZN</th>\n",
       "      <th>AAPL</th>\n",
       "      <th>AMZN</th>\n",
       "      <th>AAPL</th>\n",
       "      <th>AMZN</th>\n",
       "      <th>AAPL</th>\n",
       "      <th>AMZN</th>\n",
       "      <th>AAPL</th>\n",
       "      <th>AMZN</th>\n",
       "      <th>AAPL</th>\n",
       "      <th>AMZN</th>\n",
       "    </tr>\n",
       "    <tr>\n",
       "      <th>Date</th>\n",
       "      <th></th>\n",
       "      <th></th>\n",
       "      <th></th>\n",
       "      <th></th>\n",
       "      <th></th>\n",
       "      <th></th>\n",
       "      <th></th>\n",
       "      <th></th>\n",
       "      <th></th>\n",
       "      <th></th>\n",
       "      <th></th>\n",
       "      <th></th>\n",
       "    </tr>\n",
       "  </thead>\n",
       "  <tbody>\n",
       "    <tr>\n",
       "      <th>2017-01-03</th>\n",
       "      <td>27.413372</td>\n",
       "      <td>753.669983</td>\n",
       "      <td>29.037500</td>\n",
       "      <td>753.669983</td>\n",
       "      <td>29.082500</td>\n",
       "      <td>758.760010</td>\n",
       "      <td>28.690001</td>\n",
       "      <td>747.700012</td>\n",
       "      <td>28.950001</td>\n",
       "      <td>757.919983</td>\n",
       "      <td>115127600</td>\n",
       "      <td>3521100</td>\n",
       "    </tr>\n",
       "    <tr>\n",
       "      <th>2017-01-04</th>\n",
       "      <td>27.382690</td>\n",
       "      <td>757.179993</td>\n",
       "      <td>29.004999</td>\n",
       "      <td>757.179993</td>\n",
       "      <td>29.127501</td>\n",
       "      <td>759.679993</td>\n",
       "      <td>28.937500</td>\n",
       "      <td>754.200012</td>\n",
       "      <td>28.962500</td>\n",
       "      <td>758.390015</td>\n",
       "      <td>84472400</td>\n",
       "      <td>2510500</td>\n",
       "    </tr>\n",
       "    <tr>\n",
       "      <th>2017-01-05</th>\n",
       "      <td>27.521944</td>\n",
       "      <td>780.450012</td>\n",
       "      <td>29.152500</td>\n",
       "      <td>780.450012</td>\n",
       "      <td>29.215000</td>\n",
       "      <td>782.400024</td>\n",
       "      <td>28.952499</td>\n",
       "      <td>760.260010</td>\n",
       "      <td>28.980000</td>\n",
       "      <td>761.549988</td>\n",
       "      <td>88774400</td>\n",
       "      <td>5830100</td>\n",
       "    </tr>\n",
       "    <tr>\n",
       "      <th>2017-01-06</th>\n",
       "      <td>27.828764</td>\n",
       "      <td>795.989990</td>\n",
       "      <td>29.477501</td>\n",
       "      <td>795.989990</td>\n",
       "      <td>29.540001</td>\n",
       "      <td>799.440002</td>\n",
       "      <td>29.117500</td>\n",
       "      <td>778.479980</td>\n",
       "      <td>29.195000</td>\n",
       "      <td>782.359985</td>\n",
       "      <td>127007600</td>\n",
       "      <td>5986200</td>\n",
       "    </tr>\n",
       "    <tr>\n",
       "      <th>2017-01-09</th>\n",
       "      <td>28.083660</td>\n",
       "      <td>796.919983</td>\n",
       "      <td>29.747499</td>\n",
       "      <td>796.919983</td>\n",
       "      <td>29.857500</td>\n",
       "      <td>801.770020</td>\n",
       "      <td>29.485001</td>\n",
       "      <td>791.770020</td>\n",
       "      <td>29.487499</td>\n",
       "      <td>798.000000</td>\n",
       "      <td>134247600</td>\n",
       "      <td>3446100</td>\n",
       "    </tr>\n",
       "    <tr>\n",
       "      <th>...</th>\n",
       "      <td>...</td>\n",
       "      <td>...</td>\n",
       "      <td>...</td>\n",
       "      <td>...</td>\n",
       "      <td>...</td>\n",
       "      <td>...</td>\n",
       "      <td>...</td>\n",
       "      <td>...</td>\n",
       "      <td>...</td>\n",
       "      <td>...</td>\n",
       "      <td>...</td>\n",
       "      <td>...</td>\n",
       "    </tr>\n",
       "    <tr>\n",
       "      <th>2017-04-24</th>\n",
       "      <td>34.048462</td>\n",
       "      <td>907.409973</td>\n",
       "      <td>35.910000</td>\n",
       "      <td>907.409973</td>\n",
       "      <td>35.987499</td>\n",
       "      <td>909.989990</td>\n",
       "      <td>35.794998</td>\n",
       "      <td>903.820007</td>\n",
       "      <td>35.875000</td>\n",
       "      <td>908.679993</td>\n",
       "      <td>68537200</td>\n",
       "      <td>3122900</td>\n",
       "    </tr>\n",
       "    <tr>\n",
       "      <th>2017-04-25</th>\n",
       "      <td>34.259430</td>\n",
       "      <td>907.619995</td>\n",
       "      <td>36.132500</td>\n",
       "      <td>907.619995</td>\n",
       "      <td>36.224998</td>\n",
       "      <td>909.479980</td>\n",
       "      <td>35.967499</td>\n",
       "      <td>903.000000</td>\n",
       "      <td>35.977501</td>\n",
       "      <td>907.039978</td>\n",
       "      <td>75486000</td>\n",
       "      <td>3380600</td>\n",
       "    </tr>\n",
       "    <tr>\n",
       "      <th>2017-04-26</th>\n",
       "      <td>34.057938</td>\n",
       "      <td>909.289978</td>\n",
       "      <td>35.919998</td>\n",
       "      <td>909.289978</td>\n",
       "      <td>36.150002</td>\n",
       "      <td>915.750000</td>\n",
       "      <td>35.845001</td>\n",
       "      <td>907.559998</td>\n",
       "      <td>36.117500</td>\n",
       "      <td>910.299988</td>\n",
       "      <td>80164800</td>\n",
       "      <td>2608900</td>\n",
       "    </tr>\n",
       "    <tr>\n",
       "      <th>2017-04-27</th>\n",
       "      <td>34.084007</td>\n",
       "      <td>918.380005</td>\n",
       "      <td>35.947498</td>\n",
       "      <td>918.380005</td>\n",
       "      <td>36.040001</td>\n",
       "      <td>921.859985</td>\n",
       "      <td>35.827499</td>\n",
       "      <td>912.109985</td>\n",
       "      <td>35.980000</td>\n",
       "      <td>914.390015</td>\n",
       "      <td>56985200</td>\n",
       "      <td>5305500</td>\n",
       "    </tr>\n",
       "    <tr>\n",
       "      <th>2017-04-28</th>\n",
       "      <td>34.050831</td>\n",
       "      <td>924.989990</td>\n",
       "      <td>35.912498</td>\n",
       "      <td>924.989990</td>\n",
       "      <td>36.075001</td>\n",
       "      <td>949.590027</td>\n",
       "      <td>35.817501</td>\n",
       "      <td>924.330017</td>\n",
       "      <td>36.022499</td>\n",
       "      <td>948.830017</td>\n",
       "      <td>83441600</td>\n",
       "      <td>7364700</td>\n",
       "    </tr>\n",
       "  </tbody>\n",
       "</table>\n",
       "<p>81 rows × 12 columns</p>\n",
       "</div>"
      ],
      "text/plain": [
       "            Adj Close                  Close                   High  \\\n",
       "                 AAPL        AMZN       AAPL        AMZN       AAPL   \n",
       "Date                                                                  \n",
       "2017-01-03  27.413372  753.669983  29.037500  753.669983  29.082500   \n",
       "2017-01-04  27.382690  757.179993  29.004999  757.179993  29.127501   \n",
       "2017-01-05  27.521944  780.450012  29.152500  780.450012  29.215000   \n",
       "2017-01-06  27.828764  795.989990  29.477501  795.989990  29.540001   \n",
       "2017-01-09  28.083660  796.919983  29.747499  796.919983  29.857500   \n",
       "...               ...         ...        ...         ...        ...   \n",
       "2017-04-24  34.048462  907.409973  35.910000  907.409973  35.987499   \n",
       "2017-04-25  34.259430  907.619995  36.132500  907.619995  36.224998   \n",
       "2017-04-26  34.057938  909.289978  35.919998  909.289978  36.150002   \n",
       "2017-04-27  34.084007  918.380005  35.947498  918.380005  36.040001   \n",
       "2017-04-28  34.050831  924.989990  35.912498  924.989990  36.075001   \n",
       "\n",
       "                              Low                   Open              \\\n",
       "                  AMZN       AAPL        AMZN       AAPL        AMZN   \n",
       "Date                                                                   \n",
       "2017-01-03  758.760010  28.690001  747.700012  28.950001  757.919983   \n",
       "2017-01-04  759.679993  28.937500  754.200012  28.962500  758.390015   \n",
       "2017-01-05  782.400024  28.952499  760.260010  28.980000  761.549988   \n",
       "2017-01-06  799.440002  29.117500  778.479980  29.195000  782.359985   \n",
       "2017-01-09  801.770020  29.485001  791.770020  29.487499  798.000000   \n",
       "...                ...        ...         ...        ...         ...   \n",
       "2017-04-24  909.989990  35.794998  903.820007  35.875000  908.679993   \n",
       "2017-04-25  909.479980  35.967499  903.000000  35.977501  907.039978   \n",
       "2017-04-26  915.750000  35.845001  907.559998  36.117500  910.299988   \n",
       "2017-04-27  921.859985  35.827499  912.109985  35.980000  914.390015   \n",
       "2017-04-28  949.590027  35.817501  924.330017  36.022499  948.830017   \n",
       "\n",
       "               Volume           \n",
       "                 AAPL     AMZN  \n",
       "Date                            \n",
       "2017-01-03  115127600  3521100  \n",
       "2017-01-04   84472400  2510500  \n",
       "2017-01-05   88774400  5830100  \n",
       "2017-01-06  127007600  5986200  \n",
       "2017-01-09  134247600  3446100  \n",
       "...               ...      ...  \n",
       "2017-04-24   68537200  3122900  \n",
       "2017-04-25   75486000  3380600  \n",
       "2017-04-26   80164800  2608900  \n",
       "2017-04-27   56985200  5305500  \n",
       "2017-04-28   83441600  7364700  \n",
       "\n",
       "[81 rows x 12 columns]"
      ]
     },
     "execution_count": 45,
     "metadata": {},
     "output_type": "execute_result"
    }
   ],
   "source": [
    "data"
   ]
  },
  {
   "cell_type": "code",
   "execution_count": 43,
   "id": "inner-thunder",
   "metadata": {},
   "outputs": [
    {
     "data": {
      "text/plain": [
       "Date\n",
       "2017-01-03    27.413372\n",
       "2017-01-04    27.382690\n",
       "2017-01-05    27.521944\n",
       "2017-01-06    27.828764\n",
       "2017-01-09    28.083660\n",
       "                ...    \n",
       "2017-04-24    34.048462\n",
       "2017-04-25    34.259430\n",
       "2017-04-26    34.057938\n",
       "2017-04-27    34.084007\n",
       "2017-04-28    34.050831\n",
       "Name: AAPL, Length: 81, dtype: float64"
      ]
     },
     "execution_count": 43,
     "metadata": {},
     "output_type": "execute_result"
    }
   ],
   "source": [
    "data['Adj Close']['AAPL']"
   ]
  },
  {
   "cell_type": "code",
   "execution_count": 12,
   "id": "north-empty",
   "metadata": {},
   "outputs": [
    {
     "data": {
      "text/plain": [
       "'APPL AMZN'"
      ]
     },
     "execution_count": 12,
     "metadata": {},
     "output_type": "execute_result"
    }
   ],
   "source": [
    "' '.join(['APPL', 'AMZN'])"
   ]
  },
  {
   "cell_type": "code",
   "execution_count": 56,
   "id": "proud-injection",
   "metadata": {},
   "outputs": [],
   "source": [
    "aapl_df = pd.read_csv('../../data/yahoo/16-03-21/AAPL.csv')\n",
    "amzn_df = pd.read_csv('../../data/yahoo/16-03-21/AMZN.csv')\n",
    "fb_df = pd.read_csv('../../data/yahoo/16-03-21/FB.csv')\n",
    "gm_df = pd.read_csv('../../data/yahoo/16-03-21/GM.csv')\n",
    "goog_df = pd.read_csv('../../data/yahoo/16-03-21/GOOG.csv')\n",
    "jpm_df = pd.read_csv('../../data/yahoo/16-03-21/JPM.csv')\n",
    "bp_df = pd.read_csv('../../data/yahoo/16-03-21/BP.csv')\n",
    "tsla_df = pd.read_csv('../../data/yahoo/16-03-21/TSLA.csv')"
   ]
  },
  {
   "cell_type": "code",
   "execution_count": 57,
   "id": "individual-platinum",
   "metadata": {},
   "outputs": [],
   "source": [
    "returns_df = pd.DataFrame(columns=['AAPL', 'AMZN', 'FB', 'GM', 'GOOG', 'JPM', 'BP', 'TSLA'])\n",
    "returns_df['AAPL'] = aapl_df['Close'].pct_change()[1:]\n",
    "returns_df['AMZN'] = amzn_df['Close'].pct_change()[1:]\n",
    "returns_df['FB'] = fb_df['Close'].pct_change()[1:]\n",
    "returns_df['GM'] = gm_df['Close'].pct_change()[1:]\n",
    "returns_df['GOOG'] = goog_df['Close'].pct_change()[1:]\n",
    "returns_df['JPM'] = jpm_df['Close'].pct_change()[1:]\n",
    "returns_df['BP'] = bp_df['Close'].pct_change()[1:]\n",
    "returns_df['TSLA'] = tsla_df['Close'].pct_change()[1:]"
   ]
  },
  {
   "cell_type": "code",
   "execution_count": 58,
   "id": "scientific-binding",
   "metadata": {},
   "outputs": [
    {
     "data": {
      "text/plain": [
       "AAPL    0\n",
       "AMZN    0\n",
       "FB      0\n",
       "GM      0\n",
       "GOOG    0\n",
       "JPM     0\n",
       "BP      0\n",
       "TSLA    0\n",
       "dtype: int64"
      ]
     },
     "execution_count": 58,
     "metadata": {},
     "output_type": "execute_result"
    }
   ],
   "source": [
    "# check there is no missing returns data\n",
    "len(returns_df) - returns_df.count()"
   ]
  },
  {
   "cell_type": "code",
   "execution_count": 59,
   "id": "reserved-portsmouth",
   "metadata": {},
   "outputs": [
    {
     "data": {
      "text/plain": [
       "AAPL    0.003208\n",
       "AMZN    0.002648\n",
       "FB      0.002927\n",
       "GM      0.004641\n",
       "GOOG    0.002840\n",
       "JPM     0.002593\n",
       "BP      0.001907\n",
       "TSLA    0.009465\n",
       "dtype: float64"
      ]
     },
     "execution_count": 59,
     "metadata": {},
     "output_type": "execute_result"
    }
   ],
   "source": [
    "returns_df.mean()"
   ]
  },
  {
   "cell_type": "code",
   "execution_count": 61,
   "id": "active-angola",
   "metadata": {},
   "outputs": [],
   "source": [
    "Σ = returns_df.cov()"
   ]
  },
  {
   "cell_type": "code",
   "execution_count": 62,
   "id": "rental-horror",
   "metadata": {},
   "outputs": [],
   "source": [
    "Σ = np.array(Σ)"
   ]
  },
  {
   "cell_type": "code",
   "execution_count": 63,
   "id": "heavy-fireplace",
   "metadata": {},
   "outputs": [
    {
     "data": {
      "text/plain": [
       "array([[ 6.24699099e-04,  3.72980006e-04,  4.46147864e-04,\n",
       "         1.89553366e-04,  3.28591715e-04,  1.83458903e-04,\n",
       "         1.53457321e-04,  6.01252991e-04],\n",
       "       [ 3.72980006e-04,  4.92026566e-04,  3.76444279e-04,\n",
       "         1.82939645e-05,  2.88701015e-04,  1.42408637e-05,\n",
       "        -1.51186159e-05,  5.09335076e-04],\n",
       "       [ 4.46147864e-04,  3.76444279e-04,  6.50192725e-04,\n",
       "         2.26992278e-04,  3.93644854e-04,  1.57752177e-04,\n",
       "         1.51990596e-04,  4.84198032e-04],\n",
       "       [ 1.89553366e-04,  1.82939645e-05,  2.26992278e-04,\n",
       "         1.29302384e-03,  2.76979310e-04,  6.66105617e-04,\n",
       "         7.45994690e-04,  4.55367573e-04],\n",
       "       [ 3.28591715e-04,  2.88701015e-04,  3.93644854e-04,\n",
       "         2.76979310e-04,  4.48175192e-04,  2.22011499e-04,\n",
       "         2.42412613e-04,  4.20115821e-04],\n",
       "       [ 1.83458903e-04,  1.42408637e-05,  1.57752177e-04,\n",
       "         6.66105617e-04,  2.22011499e-04,  7.90847329e-04,\n",
       "         6.56271806e-04,  2.71056654e-04],\n",
       "       [ 1.53457321e-04, -1.51186159e-05,  1.51990596e-04,\n",
       "         7.45994690e-04,  2.42412613e-04,  6.56271806e-04,\n",
       "         1.25745004e-03,  3.99127873e-04],\n",
       "       [ 6.01252991e-04,  5.09335076e-04,  4.84198032e-04,\n",
       "         4.55367573e-04,  4.20115821e-04,  2.71056654e-04,\n",
       "         3.99127873e-04,  2.64911649e-03]])"
      ]
     },
     "execution_count": 63,
     "metadata": {},
     "output_type": "execute_result"
    }
   ],
   "source": [
    "Σ"
   ]
  },
  {
   "cell_type": "code",
   "execution_count": 64,
   "id": "automated-hurricane",
   "metadata": {},
   "outputs": [
    {
     "data": {
      "text/html": [
       "<div>\n",
       "<style scoped>\n",
       "    .dataframe tbody tr th:only-of-type {\n",
       "        vertical-align: middle;\n",
       "    }\n",
       "\n",
       "    .dataframe tbody tr th {\n",
       "        vertical-align: top;\n",
       "    }\n",
       "\n",
       "    .dataframe thead th {\n",
       "        text-align: right;\n",
       "    }\n",
       "</style>\n",
       "<table border=\"1\" class=\"dataframe\">\n",
       "  <thead>\n",
       "    <tr style=\"text-align: right;\">\n",
       "      <th></th>\n",
       "      <th>AAPL</th>\n",
       "      <th>AMZN</th>\n",
       "      <th>FB</th>\n",
       "      <th>GM</th>\n",
       "      <th>GOOG</th>\n",
       "      <th>JPM</th>\n",
       "      <th>BP</th>\n",
       "      <th>TSLA</th>\n",
       "    </tr>\n",
       "  </thead>\n",
       "  <tbody>\n",
       "    <tr>\n",
       "      <th>1</th>\n",
       "      <td>0.043970</td>\n",
       "      <td>0.070266</td>\n",
       "      <td>0.023355</td>\n",
       "      <td>-0.032381</td>\n",
       "      <td>0.032712</td>\n",
       "      <td>0.061114</td>\n",
       "      <td>0.000000</td>\n",
       "      <td>-0.033410</td>\n",
       "    </tr>\n",
       "    <tr>\n",
       "      <th>2</th>\n",
       "      <td>-0.024480</td>\n",
       "      <td>0.012258</td>\n",
       "      <td>-0.016464</td>\n",
       "      <td>-0.173228</td>\n",
       "      <td>-0.020539</td>\n",
       "      <td>-0.105269</td>\n",
       "      <td>-0.144904</td>\n",
       "      <td>-0.160344</td>\n",
       "    </tr>\n",
       "    <tr>\n",
       "      <th>3</th>\n",
       "      <td>-0.007662</td>\n",
       "      <td>0.027831</td>\n",
       "      <td>0.041984</td>\n",
       "      <td>0.054167</td>\n",
       "      <td>0.016858</td>\n",
       "      <td>0.016808</td>\n",
       "      <td>0.055245</td>\n",
       "      <td>0.183877</td>\n",
       "    </tr>\n",
       "    <tr>\n",
       "      <th>4</th>\n",
       "      <td>-0.063486</td>\n",
       "      <td>-0.018523</td>\n",
       "      <td>-0.022203</td>\n",
       "      <td>0.024280</td>\n",
       "      <td>-0.038528</td>\n",
       "      <td>-0.021102</td>\n",
       "      <td>0.022941</td>\n",
       "      <td>-0.000257</td>\n",
       "    </tr>\n",
       "    <tr>\n",
       "      <th>5</th>\n",
       "      <td>-0.021244</td>\n",
       "      <td>0.030735</td>\n",
       "      <td>-0.010886</td>\n",
       "      <td>-0.029768</td>\n",
       "      <td>-0.014641</td>\n",
       "      <td>-0.053533</td>\n",
       "      <td>0.046004</td>\n",
       "      <td>0.015812</td>\n",
       "    </tr>\n",
       "    <tr>\n",
       "      <th>...</th>\n",
       "      <td>...</td>\n",
       "      <td>...</td>\n",
       "      <td>...</td>\n",
       "      <td>...</td>\n",
       "      <td>...</td>\n",
       "      <td>...</td>\n",
       "      <td>...</td>\n",
       "      <td>...</td>\n",
       "    </tr>\n",
       "    <tr>\n",
       "      <th>248</th>\n",
       "      <td>-0.009167</td>\n",
       "      <td>-0.001701</td>\n",
       "      <td>-0.003161</td>\n",
       "      <td>0.039890</td>\n",
       "      <td>0.001135</td>\n",
       "      <td>0.021735</td>\n",
       "      <td>0.020682</td>\n",
       "      <td>-0.008195</td>\n",
       "    </tr>\n",
       "    <tr>\n",
       "      <th>249</th>\n",
       "      <td>0.016503</td>\n",
       "      <td>0.018298</td>\n",
       "      <td>0.033900</td>\n",
       "      <td>-0.008798</td>\n",
       "      <td>0.029070</td>\n",
       "      <td>-0.005221</td>\n",
       "      <td>0.000000</td>\n",
       "      <td>0.047211</td>\n",
       "    </tr>\n",
       "    <tr>\n",
       "      <th>250</th>\n",
       "      <td>-0.007625</td>\n",
       "      <td>-0.007740</td>\n",
       "      <td>-0.020009</td>\n",
       "      <td>0.052015</td>\n",
       "      <td>-0.024991</td>\n",
       "      <td>0.011858</td>\n",
       "      <td>0.011632</td>\n",
       "      <td>-0.008391</td>\n",
       "    </tr>\n",
       "    <tr>\n",
       "      <th>251</th>\n",
       "      <td>0.000000</td>\n",
       "      <td>0.000000</td>\n",
       "      <td>0.000000</td>\n",
       "      <td>0.000000</td>\n",
       "      <td>0.000000</td>\n",
       "      <td>0.000000</td>\n",
       "      <td>-0.017433</td>\n",
       "      <td>0.000000</td>\n",
       "    </tr>\n",
       "    <tr>\n",
       "      <th>252</th>\n",
       "      <td>0.037635</td>\n",
       "      <td>0.001482</td>\n",
       "      <td>0.048100</td>\n",
       "      <td>-0.030121</td>\n",
       "      <td>0.016422</td>\n",
       "      <td>-0.014409</td>\n",
       "      <td>-0.014802</td>\n",
       "      <td>-0.005622</td>\n",
       "    </tr>\n",
       "  </tbody>\n",
       "</table>\n",
       "<p>252 rows × 8 columns</p>\n",
       "</div>"
      ],
      "text/plain": [
       "         AAPL      AMZN        FB        GM      GOOG       JPM        BP  \\\n",
       "1    0.043970  0.070266  0.023355 -0.032381  0.032712  0.061114  0.000000   \n",
       "2   -0.024480  0.012258 -0.016464 -0.173228 -0.020539 -0.105269 -0.144904   \n",
       "3   -0.007662  0.027831  0.041984  0.054167  0.016858  0.016808  0.055245   \n",
       "4   -0.063486 -0.018523 -0.022203  0.024280 -0.038528 -0.021102  0.022941   \n",
       "5   -0.021244  0.030735 -0.010886 -0.029768 -0.014641 -0.053533  0.046004   \n",
       "..        ...       ...       ...       ...       ...       ...       ...   \n",
       "248 -0.009167 -0.001701 -0.003161  0.039890  0.001135  0.021735  0.020682   \n",
       "249  0.016503  0.018298  0.033900 -0.008798  0.029070 -0.005221  0.000000   \n",
       "250 -0.007625 -0.007740 -0.020009  0.052015 -0.024991  0.011858  0.011632   \n",
       "251  0.000000  0.000000  0.000000  0.000000  0.000000  0.000000 -0.017433   \n",
       "252  0.037635  0.001482  0.048100 -0.030121  0.016422 -0.014409 -0.014802   \n",
       "\n",
       "         TSLA  \n",
       "1   -0.033410  \n",
       "2   -0.160344  \n",
       "3    0.183877  \n",
       "4   -0.000257  \n",
       "5    0.015812  \n",
       "..        ...  \n",
       "248 -0.008195  \n",
       "249  0.047211  \n",
       "250 -0.008391  \n",
       "251  0.000000  \n",
       "252 -0.005622  \n",
       "\n",
       "[252 rows x 8 columns]"
      ]
     },
     "execution_count": 64,
     "metadata": {},
     "output_type": "execute_result"
    }
   ],
   "source": [
    "returns_df"
   ]
  },
  {
   "cell_type": "code",
   "execution_count": 65,
   "id": "rubber-ancient",
   "metadata": {},
   "outputs": [],
   "source": [
    "μ = returns_df.mean(axis=0)"
   ]
  },
  {
   "cell_type": "code",
   "execution_count": 66,
   "id": "entertaining-feeding",
   "metadata": {},
   "outputs": [],
   "source": [
    "μ = np.array(μ)"
   ]
  },
  {
   "cell_type": "code",
   "execution_count": 68,
   "id": "narrative-exhibition",
   "metadata": {},
   "outputs": [
    {
     "data": {
      "text/plain": [
       "array([0.00320791, 0.0026484 , 0.0029266 , 0.00464147, 0.00283992,\n",
       "       0.0025935 , 0.00190677, 0.00946511])"
      ]
     },
     "execution_count": 68,
     "metadata": {},
     "output_type": "execute_result"
    }
   ],
   "source": [
    "μ"
   ]
  },
  {
   "cell_type": "code",
   "execution_count": 76,
   "id": "similar-citizen",
   "metadata": {},
   "outputs": [
    {
     "data": {
      "text/plain": [
       "(8,)"
      ]
     },
     "execution_count": 76,
     "metadata": {},
     "output_type": "execute_result"
    }
   ],
   "source": [
    "np.array(returns_df.mean())"
   ]
  },
  {
   "cell_type": "code",
   "execution_count": 16,
   "id": "diagnostic-world",
   "metadata": {},
   "outputs": [],
   "source": [
    "np.save('./8_assets_mu.pkl', μ)\n",
    "np.save('./8_assets_sigma.pkl', Σ)"
   ]
  },
  {
   "cell_type": "markdown",
   "id": "unlike-psychiatry",
   "metadata": {},
   "source": [
    "# Visualising the data"
   ]
  },
  {
   "cell_type": "code",
   "execution_count": 17,
   "id": "subjective-captain",
   "metadata": {},
   "outputs": [
    {
     "name": "stderr",
     "output_type": "stream",
     "text": [
      "<ipython-input-17-a98f953aef80>:3: RuntimeWarning: invalid value encountered in sqrt\n",
      "  plt.scatter(np.sqrt(Σ).diagonal(), μ, marker='x', color='red', s=100)\n"
     ]
    },
    {
     "data": {
      "image/png": "[encoded data removed]",
      "text/plain": [
       "<Figure size 800x600 with 1 Axes>"
      ]
     },
     "metadata": {
      "needs_background": "light"
     },
     "output_type": "display_data"
    }
   ],
   "source": [
    "plt.figure(figsize=(8, 6), dpi=100)\n",
    "plt.title('Securities in Mean-Variance Space')\n",
    "plt.scatter(np.sqrt(Σ).diagonal(), μ, marker='x', color='red', s=100)\n",
    "plt.ylabel('$r_\\pi$', size=14)\n",
    "plt.xlabel('$\\sigma_\\pi$', size=14)\n",
    "plt.show()"
   ]
  },
  {
   "cell_type": "markdown",
   "id": "criminal-agenda",
   "metadata": {},
   "source": [
    "# Plotting the Efficient EfficientFrontier"
   ]
  },
  {
   "cell_type": "code",
   "execution_count": 18,
   "id": "emotional-forth",
   "metadata": {},
   "outputs": [],
   "source": [
    "ef = EfficientFrontier.from_sample_statistics(np.array(μ), np.array(Σ))"
   ]
  },
  {
   "cell_type": "code",
   "execution_count": 19,
   "id": "single-memorial",
   "metadata": {},
   "outputs": [
    {
     "data": {
      "image/png": "[encoded data removed]",
      "text/plain": [
       "<Figure size 800x600 with 1 Axes>"
      ]
     },
     "metadata": {
      "needs_background": "light"
     },
     "output_type": "display_data"
    }
   ],
   "source": [
    "plt.figure(figsize=(8, 6), dpi=100)\n",
    "ef.plot_frontier(allow_shorts=False, allow_lending=False)"
   ]
  },
  {
   "cell_type": "code",
   "execution_count": null,
   "id": "tropical-ozone",
   "metadata": {},
   "outputs": [],
   "source": []
  }
 ],
 "metadata": {
  "kernelspec": {
   "display_name": "Python 3",
   "language": "python",
   "name": "python3"
  },
  "language_info": {
   "codemirror_mode": {
    "name": "ipython",
    "version": 3
   },
   "file_extension": ".py",
   "mimetype": "text/x-python",
   "name": "python",
   "nbconvert_exporter": "python",
   "pygments_lexer": "ipython3",
   "version": "3.8.7"
  }
 },
 "nbformat": 4,
 "nbformat_minor": 5
}
