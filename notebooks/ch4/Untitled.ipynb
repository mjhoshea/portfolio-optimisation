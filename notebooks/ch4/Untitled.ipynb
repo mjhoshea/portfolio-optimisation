{
 "cells": [
  {
   "cell_type": "code",
   "execution_count": 1,
   "id": "veterinary-threat",
   "metadata": {},
   "outputs": [
    {
     "name": "stdout",
     "output_type": "stream",
     "text": [
      "hello\n"
     ]
    }
   ],
   "source": [
    "print('hello')"
   ]
  },
  {
   "cell_type": "code",
   "execution_count": 2,
   "id": "canadian-savannah",
   "metadata": {},
   "outputs": [],
   "source": [
    "A = [1,2,3,4,5]"
   ]
  },
  {
   "cell_type": "code",
   "execution_count": 7,
   "id": "pretty-brand",
   "metadata": {},
   "outputs": [
    {
     "data": {
      "text/plain": [
       "[2, 3, 4]"
      ]
     },
     "execution_count": 7,
     "metadata": {},
     "output_type": "execute_result"
    }
   ],
   "source": [
    "A[1:-1]"
   ]
  },
  {
   "cell_type": "code",
   "execution_count": 8,
   "id": "miniature-while",
   "metadata": {},
   "outputs": [],
   "source": [
    "import numpy as np"
   ]
  },
  {
   "cell_type": "code",
   "execution_count": 18,
   "id": "typical-airfare",
   "metadata": {},
   "outputs": [],
   "source": [
    "res =  np.random.multivariate_normal([1,1], [[1, 0],[0,1]], (1, 10))"
   ]
  },
  {
   "cell_type": "code",
   "execution_count": 19,
   "id": "basic-magazine",
   "metadata": {},
   "outputs": [
    {
     "data": {
      "text/plain": [
       "array([[[ 1.00613063,  1.47449794],\n",
       "        [-0.87330319,  5.11481871],\n",
       "        [ 1.2255738 ,  2.34448329],\n",
       "        [ 1.08519242, -0.64616348],\n",
       "        [ 0.88451037,  2.98049392],\n",
       "        [-0.06487403, -0.22317531],\n",
       "        [ 1.49652157,  1.38357961],\n",
       "        [ 1.57115139,  1.27762198],\n",
       "        [-0.75661535,  2.09624467],\n",
       "        [ 1.35213861,  1.9130526 ]]])"
      ]
     },
     "execution_count": 19,
     "metadata": {},
     "output_type": "execute_result"
    }
   ],
   "source": [
    "res"
   ]
  },
  {
   "cell_type": "code",
   "execution_count": 20,
   "id": "revolutionary-captain",
   "metadata": {},
   "outputs": [
    {
     "data": {
      "text/plain": [
       "array([[ 1.00613063,  1.47449794],\n",
       "       [-0.87330319,  5.11481871],\n",
       "       [ 1.2255738 ,  2.34448329],\n",
       "       [ 1.08519242, -0.64616348],\n",
       "       [ 0.88451037,  2.98049392],\n",
       "       [-0.06487403, -0.22317531],\n",
       "       [ 1.49652157,  1.38357961],\n",
       "       [ 1.57115139,  1.27762198],\n",
       "       [-0.75661535,  2.09624467],\n",
       "       [ 1.35213861,  1.9130526 ]])"
      ]
     },
     "execution_count": 20,
     "metadata": {},
     "output_type": "execute_result"
    }
   ],
   "source": [
    "np.mean(res, axis=0)"
   ]
  },
  {
   "cell_type": "code",
   "execution_count": null,
   "id": "handy-sunset",
   "metadata": {},
   "outputs": [],
   "source": []
  }
 ],
 "metadata": {
  "kernelspec": {
   "display_name": "Python 3",
   "language": "python",
   "name": "python3"
  },
  "language_info": {
   "codemirror_mode": {
    "name": "ipython",
    "version": 3
   },
   "file_extension": ".py",
   "mimetype": "text/x-python",
   "name": "python",
   "nbconvert_exporter": "python",
   "pygments_lexer": "ipython3",
   "version": "3.8.7"
  }
 },
 "nbformat": 4,
 "nbformat_minor": 5
}
