{
 "cells": [
  {
   "cell_type": "markdown",
   "id": "antique-current",
   "metadata": {},
   "source": [
    "# Techniques for Calculating the Efficient Frontier"
   ]
  },
  {
   "cell_type": "markdown",
   "id": "portable-prior",
   "metadata": {},
   "source": [
    "## Short Sales Allowed with Riskless Lending and Borrowing\n",
    "\n",
    "There is a single portfolio in return volatility space that is prefered to all other portfolios. The portfolio plots on the ray connecting the riskless asset and a risky portfolio.\n",
    "\n",
    "**Maximise**\n",
    "\n",
    "$$ \\theta = \\frac{\\bar{R_{\\pi}} - R_F}{\\sigma_{\\pi}}$$\n",
    "\n",
    "**Subject to**\n",
    "\n",
    "$$ \\sum_{i=1}^N X_i = 1$$"
   ]
  },
  {
   "cell_type": "code",
   "execution_count": 18,
   "id": "isolated-negotiation",
   "metadata": {},
   "outputs": [],
   "source": [
    "import numpy as np"
   ]
  },
  {
   "cell_type": "code",
   "execution_count": 66,
   "id": "continuing-andrew",
   "metadata": {},
   "outputs": [],
   "source": [
    "R̄ = np.array([0.14, 0.08, 0.20])\n",
    "\n",
    "cov = np.array([\n",
    "    [0.06,      0.5*0.06*0.03, 0.2*0.06*0.15],\n",
    "    [0.5*0.06*0.03, 0.03,      0.4*0.03*0.15],\n",
    "    [0.2*0.06*0.15, 0.4*0.03*0.15, 0.15]\n",
    "])\n",
    "\n",
    "R_f = 0.05"
   ]
  },
  {
   "cell_type": "code",
   "execution_count": 67,
   "id": "responsible-bible",
   "metadata": {},
   "outputs": [],
   "source": [
    "δR = R̄-R_f"
   ]
  },
  {
   "cell_type": "code",
   "execution_count": 68,
   "id": "descending-update",
   "metadata": {},
   "outputs": [],
   "source": [
    "A = (cov*np.eye(3))**2 + (np.ones(3) - np.eye(3))*cov"
   ]
  },
  {
   "cell_type": "code",
   "execution_count": 69,
   "id": "incoming-alignment",
   "metadata": {},
   "outputs": [],
   "source": [
    "Z = np.linalg.inv(A).dot(δR)"
   ]
  },
  {
   "cell_type": "code",
   "execution_count": 70,
   "id": "established-heating",
   "metadata": {},
   "outputs": [],
   "source": [
    "X = Z/sum(Z)"
   ]
  },
  {
   "cell_type": "code",
   "execution_count": 71,
   "id": "automatic-circuit",
   "metadata": {},
   "outputs": [
    {
     "data": {
      "text/plain": [
       "array([0.77777778, 0.05555556, 0.16666667])"
      ]
     },
     "execution_count": 71,
     "metadata": {},
     "output_type": "execute_result"
    }
   ],
   "source": [
    "X"
   ]
  },
  {
   "cell_type": "markdown",
   "id": "based-authority",
   "metadata": {},
   "source": [
    "## No Short Selling and No Riskless Lending and Borrowing\n",
    "\n",
    "The efficient set is found by minimising the risk level for a given level of expected return. Therfore, one can specify the return at some level and minimize the risk, obtaining a single point on the efficient frontier. We can fromalize this by say we seek to \n",
    "\n",
    "**Minimize**\n",
    "\n",
    "$$ \\sum_{i=1}^N X_i^2\\sigma_i^2 + \\sum_{i=1}^N \\sum_{j=1,j\\neq i}^N X_iX_j \\sigma_i^2 \\sigma_j^2$$\n",
    "\n",
    "**Subject to**\n",
    "\n",
    "$$ \\sum_{i=1}^N X_i = 1$$\n",
    "\n",
    "$$ \\sum_{i=1}^N X_i \\bar{R}_i = \\bar{R}_{\\pi}$$\n",
    "\n",
    "$$ X_i \\geq 0 \\text{, i=1,...,N}$$"
   ]
  },
  {
   "cell_type": "code",
   "execution_count": 448,
   "id": "fresh-transcript",
   "metadata": {},
   "outputs": [],
   "source": [
    "import cvxopt \n",
    "from cvxopt import matrix\n",
    "import matplotlib.pyplot as plt\n",
    "plt.style.use('seaborn')"
   ]
  },
  {
   "cell_type": "code",
   "execution_count": 520,
   "id": "acceptable-search",
   "metadata": {},
   "outputs": [],
   "source": [
    "avg_ret = [ .0215, .0267, .0158 , .0452, .0318]\n",
    "\n",
    "cov = [[.0096, .0089, .0046, .0019, .0137],\n",
    "        [.0089, .0440, .0064, .0071, .0232],\n",
    "        [.0046, .0064, .0088, .0036, .0048],\n",
    "        [.0019, .0071, .0036, .0824, .0052],\n",
    "        [.0137, .0232, .0048, .0052, .0878]]"
   ]
  },
  {
   "cell_type": "code",
   "execution_count": 521,
   "id": "removed-stopping",
   "metadata": {},
   "outputs": [],
   "source": [
    "n = 5"
   ]
  },
  {
   "cell_type": "code",
   "execution_count": 522,
   "id": "mexican-spiritual",
   "metadata": {},
   "outputs": [],
   "source": [
    "# P matrix is the covariance matrix\n",
    "P = opt.matrix(cov)"
   ]
  },
  {
   "cell_type": "code",
   "execution_count": 523,
   "id": "august-translation",
   "metadata": {},
   "outputs": [],
   "source": [
    "# no constraint on q\n",
    "q = opt.matrix(np.zeros((n, 1)))"
   ]
  },
  {
   "cell_type": "code",
   "execution_count": 524,
   "id": "parliamentary-parliament",
   "metadata": {},
   "outputs": [],
   "source": [
    "G = opt.matrix(np.concatenate((\n",
    "                -np.transpose(np.array(avg_ret))[None,:], \n",
    "                -np.identity(n)), 0))"
   ]
  },
  {
   "cell_type": "code",
   "execution_count": 525,
   "id": "musical-retrieval",
   "metadata": {},
   "outputs": [
    {
     "data": {
      "text/plain": [
       "array([[-0.0215, -0.0267, -0.0158, -0.0452, -0.0318],\n",
       "       [-1.    , -0.    , -0.    , -0.    , -0.    ],\n",
       "       [-0.    , -1.    , -0.    , -0.    , -0.    ],\n",
       "       [-0.    , -0.    , -1.    , -0.    , -0.    ],\n",
       "       [-0.    , -0.    , -0.    , -1.    , -0.    ],\n",
       "       [-0.    , -0.    , -0.    , -0.    , -1.    ]])"
      ]
     },
     "execution_count": 525,
     "metadata": {},
     "output_type": "execute_result"
    }
   ],
   "source": [
    "np.array(G)"
   ]
  },
  {
   "cell_type": "code",
   "execution_count": 561,
   "id": "persistent-brooklyn",
   "metadata": {},
   "outputs": [],
   "source": [
    "h = opt.matrix(np.concatenate((np.ones((1,1))*-0.0452, np.zeros((n,1)))))"
   ]
  },
  {
   "cell_type": "code",
   "execution_count": 562,
   "id": "lined-affairs",
   "metadata": {},
   "outputs": [
    {
     "data": {
      "text/plain": [
       "array([[-0.0452],\n",
       "       [ 0.    ],\n",
       "       [ 0.    ],\n",
       "       [ 0.    ],\n",
       "       [ 0.    ],\n",
       "       [ 0.    ]])"
      ]
     },
     "execution_count": 562,
     "metadata": {},
     "output_type": "execute_result"
    }
   ],
   "source": [
    "np.array(h)"
   ]
  },
  {
   "cell_type": "code",
   "execution_count": 563,
   "id": "forbidden-thunder",
   "metadata": {},
   "outputs": [],
   "source": [
    "A = opt.matrix(1.0, (1,n))\n",
    "b = opt.matrix(1.0)\n"
   ]
  },
  {
   "cell_type": "code",
   "execution_count": 564,
   "id": "typical-dodge",
   "metadata": {},
   "outputs": [],
   "source": [
    "opt.solvers.options['show_progress'] = False\n",
    "sol = opt.solvers.qp(P, q, G, h, A, b)"
   ]
  },
  {
   "cell_type": "code",
   "execution_count": 565,
   "id": "wicked-reception",
   "metadata": {},
   "outputs": [],
   "source": [
    "weights = np.array(sol['x'])"
   ]
  },
  {
   "cell_type": "code",
   "execution_count": 566,
   "id": "rural-cargo",
   "metadata": {},
   "outputs": [
    {
     "name": "stdout",
     "output_type": "stream",
     "text": [
      "[[-2.96048941e-10]\n",
      " [ 2.80905875e-09]\n",
      " [ 1.49533326e-09]\n",
      " [ 9.99999972e-01]\n",
      " [ 2.43412745e-08]]\n"
     ]
    }
   ],
   "source": [
    "print(weights)"
   ]
  },
  {
   "cell_type": "code",
   "execution_count": 567,
   "id": "metallic-hampshire",
   "metadata": {},
   "outputs": [
    {
     "data": {
      "text/plain": [
       "[0.0215, 0.0267, 0.0158, 0.0452, 0.0318]"
      ]
     },
     "execution_count": 567,
     "metadata": {},
     "output_type": "execute_result"
    }
   ],
   "source": [
    "avg_ret"
   ]
  },
  {
   "cell_type": "code",
   "execution_count": 568,
   "id": "czech-genre",
   "metadata": {},
   "outputs": [
    {
     "data": {
      "text/plain": [
       "array([0.0452])"
      ]
     },
     "execution_count": 568,
     "metadata": {},
     "output_type": "execute_result"
    }
   ],
   "source": [
    "weights.T@avg_ret"
   ]
  },
  {
   "cell_type": "code",
   "execution_count": 569,
   "id": "alike-lighter",
   "metadata": {},
   "outputs": [
    {
     "data": {
      "text/plain": [
       "array([[0.0824]])"
      ]
     },
     "execution_count": 569,
     "metadata": {},
     "output_type": "execute_result"
    }
   ],
   "source": [
    "weights.T@cov@weights"
   ]
  },
  {
   "cell_type": "code",
   "execution_count": 551,
   "id": "elementary-composite",
   "metadata": {},
   "outputs": [],
   "source": [
    "def efficient_frontier(r̄, cov):\n",
    "    n = len(r̄)\n",
    "    \n",
    "    P = opt.matrix(cov)\n",
    "    q = opt.matrix(np.zeros((n, 1)))\n",
    "    G = opt.matrix(np.concatenate((\n",
    "                -np.transpose(np.array(r̄))[None,:], \n",
    "                -np.identity(n)), 0))\n",
    "    \n",
    "    A = opt.matrix(1.0, (1,n))\n",
    "    b = opt.matrix(1.0)\n",
    "    \n",
    "    min_r̄ = min(r̄)\n",
    "    max_r̄ = max(r̄)\n",
    "    print(min_r̄)\n",
    "    R_π = []\n",
    "    σ_π = []\n",
    "    for r in np.arange(min_r̄, max_r̄, 0.001):\n",
    "        h = opt.matrix(np.concatenate((np.ones((1,1))*-r, np.zeros((n,1)))))\n",
    "        sol = opt.solvers.qp(P, q, G, h, A, b)\n",
    "        weights = np.array(sol['x'])\n",
    "        R_π.append(weights.T@r̄)\n",
    "        σ_π.append((weights.T@cov@weights)[0])\n",
    "        \n",
    "    print(R_π)\n",
    "    σs = np.diag(cov)\n",
    "    \n",
    "    plt.title('Efficient Frontier', size = 18)\n",
    "    plt.plot(σ_π, R_π)\n",
    "    plt.scatter(σs, r̄, marker='x', color='red', s=100)\n",
    "    \n",
    "\n",
    "    plt.ylabel('$r_p$', size=14)\n",
    "    plt.xlabel('$\\sigma_p$', size=14)\n",
    "    plt.show()\n",
    "        \n",
    "    \n"
   ]
  },
  {
   "cell_type": "code",
   "execution_count": 552,
   "id": "ethical-oxford",
   "metadata": {},
   "outputs": [
    {
     "name": "stdout",
     "output_type": "stream",
     "text": [
      "0.0158\n",
      "[array([0.01975913]), array([0.01975913]), array([0.01975913]), array([0.01975914]), array([0.01981101]), array([0.0208]), array([0.0218]), array([0.0228]), array([0.0238]), array([0.0248]), array([0.0258]), array([0.0268]), array([0.0278]), array([0.0288]), array([0.0298]), array([0.0308]), array([0.0318]), array([0.0328]), array([0.0338]), array([0.0348]), array([0.0358]), array([0.0368]), array([0.0378]), array([0.0388]), array([0.0398]), array([0.0408]), array([0.0418]), array([0.0428]), array([0.0438]), array([0.0448])]\n"
     ]
    },
    {
     "data": {
      "image/png": "[encoded data removed]",
      "text/plain": [
       "<Figure size 576x396 with 1 Axes>"
      ]
     },
     "metadata": {},
     "output_type": "display_data"
    }
   ],
   "source": [
    "efficient_frontier(avg_ret, cov)"
   ]
  },
  {
   "cell_type": "code",
   "execution_count": null,
   "id": "hungarian-flush",
   "metadata": {},
   "outputs": [],
   "source": []
  }
 ],
 "metadata": {
  "kernelspec": {
   "display_name": "Python 3",
   "language": "python",
   "name": "python3"
  },
  "language_info": {
   "codemirror_mode": {
    "name": "ipython",
    "version": 3
   },
   "file_extension": ".py",
   "mimetype": "text/x-python",
   "name": "python",
   "nbconvert_exporter": "python",
   "pygments_lexer": "ipython3",
   "version": "3.8.7"
  }
 },
 "nbformat": 4,
 "nbformat_minor": 5
}
