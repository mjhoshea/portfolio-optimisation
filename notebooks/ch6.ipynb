{
 "cells": [
  {
   "cell_type": "markdown",
   "id": "simplified-consciousness",
   "metadata": {},
   "source": [
    "# Techniques for Calculating the Efficient Frontier"
   ]
  },
  {
   "cell_type": "markdown",
   "id": "dangerous-middle",
   "metadata": {},
   "source": [
    "## Short Sales Allowed with Riskless Lending and Borrowing\n",
    "\n",
    "There is a single portfolio in return volatility space that is prefered to all other portfolios. The portfolio plots on the ray connecting the riskless asset and a risky portfolio.\n",
    "\n",
    "**Maximise**\n",
    "\n",
    "$$ \\theta = \\frac{\\bar{R_{\\pi}} - R_F}{\\sigma_{\\pi}}$$\n",
    "\n",
    "**Subject to**\n",
    "\n",
    "$$ \\sum_{i=1}^N X_i = 1$$"
   ]
  },
  {
   "cell_type": "code",
   "execution_count": 1,
   "id": "peripheral-adelaide",
   "metadata": {},
   "outputs": [],
   "source": [
    "import numpy as np\n",
    "import matplotlib.pyplot as plt"
   ]
  },
  {
   "cell_type": "code",
   "execution_count": 2,
   "id": "generic-electronics",
   "metadata": {},
   "outputs": [],
   "source": [
    "import random \n",
    "\n",
    "a, b = [random.uniform(1, 3) for i in range(2)]"
   ]
  },
  {
   "cell_type": "code",
   "execution_count": 27,
   "id": "medical-showcase",
   "metadata": {},
   "outputs": [],
   "source": [
    "R̄ = np.array([14, 8, 20])\n",
    "\n",
    "cov = np.array([\n",
    "    [6*6,     0.5*6*3, 0.2*6*15],\n",
    "    [0.5*6*3, 3*3,      0.4*3*15],\n",
    "    [0.2*6*15, 0.4*3*15, 15*15]\n",
    "])\n",
    "\n",
    "R_f = 5"
   ]
  },
  {
   "cell_type": "code",
   "execution_count": 4,
   "id": "olympic-appeal",
   "metadata": {},
   "outputs": [],
   "source": [
    "def security_weights(R̄, cov, R_f):\n",
    "    δR = R̄-R_f\n",
    "    A = cov*np.eye(3) + (np.ones(3) - np.eye(3))*cov\n",
    "    Z = np.linalg.inv(A).dot(δR)\n",
    "    X = Z/sum(Z)\n",
    "    return X"
   ]
  },
  {
   "cell_type": "code",
   "execution_count": 5,
   "id": "associate-sculpture",
   "metadata": {},
   "outputs": [],
   "source": [
    "def eff_set_lending_borrowing_shorts(R̄, cov, R_f):\n",
    "    weights = security_weights(R̄, cov, R_f)\n",
    "    R̄_π = R̄@weights\n",
    "    σ_π = np.sqrt(weights.T@cov@weights)\n",
    "    θ = (R̄_π - R_f)/σ_π\n",
    "    \n",
    "    x = np.arange(0, 10, 0.01)\n",
    "    y = [R_f + θ*i for i in x]\n",
    "    \n",
    "    plt.plot(x, y)\n",
    "    plt.scatter(σ_π, R̄_π, marker='x', color='red', s=100)\n",
    "    plt.ylabel('$r_p$', size=14)\n",
    "    plt.xlabel('$\\sigma_p$', size=14)"
   ]
  },
  {
   "cell_type": "code",
   "execution_count": 6,
   "id": "conventional-relevance",
   "metadata": {},
   "outputs": [
    {
     "data": {
      "image/png": "[encoded data removed]",
      "text/plain": [
       "<Figure size 432x288 with 1 Axes>"
      ]
     },
     "metadata": {
      "needs_background": "light"
     },
     "output_type": "display_data"
    }
   ],
   "source": [
    "eff_set_lending_borrowing_shorts(R̄, cov, R_f)"
   ]
  },
  {
   "cell_type": "markdown",
   "id": "southwest-salad",
   "metadata": {},
   "source": [
    "## Short Sales Allowed: No Riskless Lending and Borrowing\n",
    "\n",
    "We an investor can't lend/borrow at the riskless rate the following section must be modified. However, much of the analysis carries over. The efficient set constructed before allowed us to calculate the tandency potfolio which lies on the efficent. Therofre we can assume different rates of interest and find variouse tangeny portolios. The set of these portfolios will plot out the efficient set in return/volatility space."
   ]
  },
  {
   "cell_type": "code",
   "execution_count": 7,
   "id": "dynamic-elevation",
   "metadata": {},
   "outputs": [],
   "source": [
    "def eff_set_shorts(R̄, cov):\n",
    "    \n",
    "    R_fs = np.arange(-1000, 7, 0.1)\n",
    "    \n",
    "    R̄_πs = []\n",
    "    σ_πs = []\n",
    "    \n",
    "    for R_f in R_fs:\n",
    "        weights = security_weights(R̄, cov, R_f)\n",
    "        R̄_πs.append(R̄@weights)\n",
    "        σ_πs.append(np.sqrt(weights.T@cov@weights))\n",
    "\n",
    "    plt.scatter(σ_πs, R̄_πs)\n",
    "#   plt.scatter(σ_π, R̄_π, marker='x', color='red', s=100)\n",
    "    plt.ylabel('$r_p$', size=14)\n",
    "    plt.xlabel('$\\sigma_p$', size=14)\n",
    "    "
   ]
  },
  {
   "cell_type": "code",
   "execution_count": 8,
   "id": "decent-borough",
   "metadata": {},
   "outputs": [
    {
     "data": {
      "image/png": "[encoded data removed]",
      "text/plain": [
       "<Figure size 432x288 with 1 Axes>"
      ]
     },
     "metadata": {
      "needs_background": "light"
     },
     "output_type": "display_data"
    }
   ],
   "source": [
    "eff_set_shorts(R̄, cov)"
   ]
  },
  {
   "cell_type": "code",
   "execution_count": 28,
   "id": "modified-affairs",
   "metadata": {},
   "outputs": [],
   "source": [
    "def calc_π_r(r_i, x_i, r_j, x_j):\n",
    "\n",
    "    return r_i*x_i + r_j*x_j"
   ]
  },
  {
   "cell_type": "code",
   "execution_count": 29,
   "id": "crude-sydney",
   "metadata": {},
   "outputs": [],
   "source": [
    "def calc_π_σ(σ_i, x_i, σ_j, x_j, ρ_ij):\n",
    "  \n",
    "    \n",
    "    σ_p_sqrd = σ_i**2*x_i**2 + σ_j**2*x_j**2 + 2*σ_i*σ_j*x_i*x_j*ρ_ij\n",
    "    return np.sqrt(σ_p_sqrd)"
   ]
  },
  {
   "cell_type": "code",
   "execution_count": 30,
   "id": "royal-johnston",
   "metadata": {},
   "outputs": [],
   "source": [
    "def calc_π_σ(σ_i, x_i, σ_j, x_j, σ_ij):\n",
    "  \n",
    "    \n",
    "    σ_p_sqrd = σ_i**2*x_i**2 + σ_j**2*x_j**2 + 2*σ_ij*x_i*x_j\n",
    "    return np.sqrt(σ_p_sqrd)"
   ]
  },
  {
   "cell_type": "code",
   "execution_count": 31,
   "id": "stone-threshold",
   "metadata": {},
   "outputs": [],
   "source": [
    "def eff_set_shorts(R̄, cov):\n",
    "    \n",
    "    \n",
    "    weights_a = security_weights(R̄, cov, 5)\n",
    "    R̄_a = R̄@weights_a\n",
    "    σ_a = np.sqrt(weights_a.T@cov@weights_a)\n",
    "    \n",
    "    \n",
    "    weights_b = security_weights(R̄, cov, 2)\n",
    "    R̄_b = R̄@weights_b\n",
    "    σ_b = np.sqrt(weights_b.T@cov@weights_b)\n",
    "    \n",
    "    \n",
    "    weights_mix = 0.5*weights_a + 0.5*weights_b\n",
    "\n",
    "    R̄_mix = R̄@weights_mix\n",
    "    σ_mix = np.sqrt(weights_mix.T@cov@weights_mix)\n",
    "    print(σ_mix)\n",
    "    \n",
    "    num = σ_mix**2 - (0.5**2)*(σ_a**2) - (0.5**2)*(σ_b**2)\n",
    "    denom = 2*0.5*0.5\n",
    "    σ_cross = num / denom\n",
    "\n",
    "\n",
    "    r_p_short = []\n",
    "    σ_p_short = []\n",
    "    \n",
    "    print('Portfolio A: return = {}, std = {}'.format(R̄_a, σ_a))\n",
    "    print('Portfolio B: return = {}, std = {}'.format(R̄_b, σ_b))\n",
    "    print(R̄_b)\n",
    "\n",
    "    for x_a in np.arange(-2,1, 0.01):\n",
    "        x_b = 1-x_a\n",
    "        r_p_short.append(calc_π_r(R̄_a, x_a, R̄_b, x_b))\n",
    "        σ_p_short.append(calc_π_σ(σ_a, x_a, σ_b, x_b, σ_cross))\n",
    "    \n",
    "    plt.scatter(σ_p_short, r_p_short)\n",
    "#   plt.scatter(σ_π, R̄_π, marker='x', color='red', s=100)\n",
    "    plt.ylabel('$r_p$', size=14)\n",
    "    plt.xlabel('$\\sigma_p$', size=14)"
   ]
  },
  {
   "cell_type": "code",
   "execution_count": 32,
   "id": "absent-store",
   "metadata": {},
   "outputs": [
    {
     "data": {
      "text/plain": [
       "[15.622394976049723, 13.132331535063807]"
      ]
     },
     "execution_count": 32,
     "metadata": {},
     "output_type": "execute_result"
    }
   ],
   "source": [
    "[random.uniform(8, 20) for _ in range(2)]"
   ]
  },
  {
   "cell_type": "code",
   "execution_count": 80,
   "id": "considered-venture",
   "metadata": {},
   "outputs": [
    {
     "name": "stdout",
     "output_type": "stream",
     "text": [
      "4.6753564926466655\n",
      "Portfolio A: return = 14.666666666666668, std = 5.816642788871717\n",
      "Portfolio B: return = 10.7, std = 3.7016888037759195\n",
      "10.7\n"
     ]
    },
    {
     "data": {
      "image/png": "[encoded data removed]",
      "text/plain": [
       "<Figure size 576x396 with 1 Axes>"
      ]
     },
     "metadata": {},
     "output_type": "display_data"
    }
   ],
   "source": [
    "eff_set_shorts(R̄, cov)"
   ]
  },
  {
   "cell_type": "markdown",
   "id": "committed-newspaper",
   "metadata": {},
   "source": [
    "# Riskless Lending and Borrowing with Short Sales Not Allowed"
   ]
  },
  {
   "cell_type": "markdown",
   "id": "congressional-weather",
   "metadata": {},
   "source": [
    "**Minimize**\n",
    "\n",
    "$$ y^T \\Sigma y $$\n",
    "\n",
    "**Subject to**\n",
    "\n",
    "$$ (\\bar{R} - R_F)^T y = 1 $$\n",
    "\n",
    "$$\\hat{A} y \\geq 0$$\n",
    "\n",
    "$$ 0 \\leq y$$"
   ]
  },
  {
   "cell_type": "code",
   "execution_count": 147,
   "id": "favorite-edgar",
   "metadata": {},
   "outputs": [],
   "source": [
    "rifk_free_rate = 5\n",
    "A = opt.matrix(np.transpose(np.array(avg_ret) - 5.0)[None,:])"
   ]
  },
  {
   "cell_type": "code",
   "execution_count": 148,
   "id": "promotional-fraction",
   "metadata": {},
   "outputs": [
    {
     "data": {
      "text/plain": [
       "array([[ 9.,  3., 15.]])"
      ]
     },
     "execution_count": 148,
     "metadata": {},
     "output_type": "execute_result"
    }
   ],
   "source": [
    "np.array(A)"
   ]
  },
  {
   "cell_type": "code",
   "execution_count": 151,
   "id": "royal-girlfriend",
   "metadata": {},
   "outputs": [],
   "source": [
    "b = opt.matrix(np.array([1.]))"
   ]
  },
  {
   "cell_type": "code",
   "execution_count": 152,
   "id": "decreased-shell",
   "metadata": {},
   "outputs": [
    {
     "data": {
      "text/plain": [
       "array([[1.]])"
      ]
     },
     "execution_count": 152,
     "metadata": {},
     "output_type": "execute_result"
    }
   ],
   "source": [
    "np.array(b)"
   ]
  },
  {
   "cell_type": "code",
   "execution_count": 153,
   "id": "informational-sewing",
   "metadata": {},
   "outputs": [],
   "source": [
    "# P matrix is the covariance matrix\n",
    "P = opt.matrix(cov)"
   ]
  },
  {
   "cell_type": "code",
   "execution_count": 154,
   "id": "electoral-residence",
   "metadata": {},
   "outputs": [],
   "source": [
    "# no constraint on q\n",
    "q = opt.matrix(np.zeros((n, 1)))"
   ]
  },
  {
   "cell_type": "code",
   "execution_count": 168,
   "id": "genetic-object",
   "metadata": {},
   "outputs": [],
   "source": [
    "G = opt.matrix(-np.identity(n))"
   ]
  },
  {
   "cell_type": "code",
   "execution_count": 169,
   "id": "heavy-board",
   "metadata": {},
   "outputs": [
    {
     "data": {
      "text/plain": [
       "array([[-1., -0., -0.],\n",
       "       [-0., -1., -0.],\n",
       "       [-0., -0., -1.]])"
      ]
     },
     "execution_count": 169,
     "metadata": {},
     "output_type": "execute_result"
    }
   ],
   "source": [
    "np.array(G)"
   ]
  },
  {
   "cell_type": "code",
   "execution_count": 170,
   "id": "coordinated-gravity",
   "metadata": {},
   "outputs": [],
   "source": [
    "h = opt.matrix(np.zeros((n,1)))"
   ]
  },
  {
   "cell_type": "code",
   "execution_count": 171,
   "id": "innocent-template",
   "metadata": {},
   "outputs": [
    {
     "data": {
      "text/plain": [
       "array([[0.],\n",
       "       [0.],\n",
       "       [0.]])"
      ]
     },
     "execution_count": 171,
     "metadata": {},
     "output_type": "execute_result"
    }
   ],
   "source": [
    "np.array(h)"
   ]
  },
  {
   "cell_type": "code",
   "execution_count": 173,
   "id": "statutory-coordinator",
   "metadata": {},
   "outputs": [],
   "source": [
    "sol = opt.solvers.qp(P, q, G, h, A, b)"
   ]
  },
  {
   "cell_type": "code",
   "execution_count": 175,
   "id": "direct-instruction",
   "metadata": {},
   "outputs": [],
   "source": [
    "weights = np.array(sol['x'])"
   ]
  },
  {
   "cell_type": "code",
   "execution_count": 177,
   "id": "geographic-occasions",
   "metadata": {},
   "outputs": [
    {
     "data": {
      "text/plain": [
       "array([[0.08045976],\n",
       "       [0.00574717],\n",
       "       [0.01724138]])"
      ]
     },
     "execution_count": 177,
     "metadata": {},
     "output_type": "execute_result"
    }
   ],
   "source": [
    "weights"
   ]
  },
  {
   "cell_type": "code",
   "execution_count": 179,
   "id": "inclusive-configuration",
   "metadata": {},
   "outputs": [],
   "source": [
    "normalised = weights/sum(weights)"
   ]
  },
  {
   "cell_type": "code",
   "execution_count": 181,
   "id": "computational-ethiopia",
   "metadata": {},
   "outputs": [
    {
     "data": {
      "text/plain": [
       "array([[0.77777746],\n",
       "       [0.05555594],\n",
       "       [0.16666659]])"
      ]
     },
     "execution_count": 181,
     "metadata": {},
     "output_type": "execute_result"
    }
   ],
   "source": [
    "normalised"
   ]
  },
  {
   "cell_type": "code",
   "execution_count": 184,
   "id": "detected-earthquake",
   "metadata": {},
   "outputs": [],
   "source": [
    "r = normalised.T@avg_ret"
   ]
  },
  {
   "cell_type": "code",
   "execution_count": 186,
   "id": "regulation-dodge",
   "metadata": {},
   "outputs": [],
   "source": [
    "v = normalised.T@cov@normalised"
   ]
  },
  {
   "cell_type": "code",
   "execution_count": 188,
   "id": "organic-parts",
   "metadata": {},
   "outputs": [
    {
     "data": {
      "text/plain": [
       "array([[5.81664113]])"
      ]
     },
     "execution_count": 188,
     "metadata": {},
     "output_type": "execute_result"
    }
   ],
   "source": [
    "np.sqrt(v)"
   ]
  },
  {
   "cell_type": "markdown",
   "id": "complex-ownership",
   "metadata": {},
   "source": [
    "## No Short Selling and No Riskless Lending and Borrowing\n",
    "\n",
    "The efficient set is found by minimising the risk level for a given level of expected return. Therfore, one can specify the return at some level and minimize the risk, obtaining a single point on the efficient frontier. We can fromalize this by say we seek to \n",
    "\n",
    "**Minimize**\n",
    "\n",
    "$$ \\sum_{i=1}^N X_i^2\\sigma_i^2 + \\sum_{i=1}^N \\sum_{j=1,j\\neq i}^N X_iX_j \\sigma_i^2 \\sigma_j^2$$\n",
    "\n",
    "**Subject to**\n",
    "\n",
    "$$ \\sum_{i=1}^N X_i = 1$$\n",
    "\n",
    "$$ \\sum_{i=1}^N X_i \\bar{R}_i = \\bar{R}_{\\pi}$$\n",
    "\n",
    "$$ X_i \\geq 0 \\text{, i=1,...,N}$$"
   ]
  },
  {
   "cell_type": "code",
   "execution_count": 7,
   "id": "designing-asthma",
   "metadata": {},
   "outputs": [],
   "source": [
    "import cvxopt as opt\n",
    "from cvxopt import matrix\n",
    "import matplotlib.pyplot as plt\n",
    "plt.style.use('seaborn')"
   ]
  },
  {
   "cell_type": "code",
   "execution_count": 75,
   "id": "national-carter",
   "metadata": {},
   "outputs": [],
   "source": [
    "# avg_ret = [ .0215, .0267, .0158 , .0452, .0318]\n",
    "\n",
    "# cov = [[.0096, .0089, .0046, .0019, .0137],\n",
    "#         [.0089, .0440, .0064, .0071, .0232],\n",
    "#         [.0046, .0064, .0088, .0036, .0048],\n",
    "#         [.0019, .0071, .0036, .0824, .0052],\n",
    "#         [.0137, .0232, .0048, .0052, .0878]]\n",
    "\n",
    "\n",
    "avg_ret = [14, 8, 20]\n",
    "cov = [[6 * 6, 0.5 * 6 * 3, 0.2 * 6 * 15],\n",
    "       [0.5 * 6 * 3, 3 * 3, 0.4 * 3 * 15],\n",
    "       [0.2 * 6 * 15, 0.4 * 3 * 15, 15 * 15]]\n"
   ]
  },
  {
   "cell_type": "code",
   "execution_count": 35,
   "id": "flying-biotechnology",
   "metadata": {},
   "outputs": [
    {
     "data": {
      "text/plain": [
       "[[36, 9.0, 18.000000000000004],\n",
       " [9.0, 9, 18.000000000000004],\n",
       " [18.000000000000004, 18.000000000000004, 225]]"
      ]
     },
     "execution_count": 35,
     "metadata": {},
     "output_type": "execute_result"
    }
   ],
   "source": [
    "cov"
   ]
  },
  {
   "cell_type": "code",
   "execution_count": 9,
   "id": "generous-tuesday",
   "metadata": {},
   "outputs": [],
   "source": [
    "n = 3"
   ]
  },
  {
   "cell_type": "code",
   "execution_count": 47,
   "id": "demonstrated-treaty",
   "metadata": {},
   "outputs": [],
   "source": [
    "# P matrix is the covariance matrix\n",
    "P = opt.matrix(cov)"
   ]
  },
  {
   "cell_type": "code",
   "execution_count": 48,
   "id": "marked-uncertainty",
   "metadata": {},
   "outputs": [],
   "source": [
    "# no constraint on q\n",
    "q = opt.matrix(np.zeros((n, 1)))"
   ]
  },
  {
   "cell_type": "code",
   "execution_count": 49,
   "id": "norwegian-driver",
   "metadata": {},
   "outputs": [],
   "source": [
    "G = opt.matrix(np.concatenate((\n",
    "                -np.transpose(np.array(avg_ret))[None,:], \n",
    "                -np.identity(n)), 0))"
   ]
  },
  {
   "cell_type": "code",
   "execution_count": 50,
   "id": "appointed-grave",
   "metadata": {},
   "outputs": [
    {
     "data": {
      "text/plain": [
       "array([[-14.,  -8., -20.],\n",
       "       [ -1.,  -0.,  -0.],\n",
       "       [ -0.,  -1.,  -0.],\n",
       "       [ -0.,  -0.,  -1.]])"
      ]
     },
     "execution_count": 50,
     "metadata": {},
     "output_type": "execute_result"
    }
   ],
   "source": [
    "np.array(G)"
   ]
  },
  {
   "cell_type": "code",
   "execution_count": 57,
   "id": "noted-irish",
   "metadata": {},
   "outputs": [],
   "source": [
    "h = opt.matrix(np.concatenate((np.ones((1,1))*-16, np.zeros((n,1)))))"
   ]
  },
  {
   "cell_type": "code",
   "execution_count": 69,
   "id": "played-territory",
   "metadata": {},
   "outputs": [
    {
     "data": {
      "text/plain": [
       "array([[-16.],\n",
       "       [  0.],\n",
       "       [  0.],\n",
       "       [  0.]])"
      ]
     },
     "execution_count": 69,
     "metadata": {},
     "output_type": "execute_result"
    }
   ],
   "source": [
    "np.array(h)"
   ]
  },
  {
   "cell_type": "code",
   "execution_count": 70,
   "id": "rough-preliminary",
   "metadata": {},
   "outputs": [],
   "source": [
    "A = opt.matrix(1.0, (1,n))\n",
    "b = opt.matrix(1.0)"
   ]
  },
  {
   "cell_type": "code",
   "execution_count": 71,
   "id": "functioning-garage",
   "metadata": {},
   "outputs": [],
   "source": [
    "opt.solvers.options['show_progress'] = False\n",
    "sol = opt.solvers.qp(P, q, G, h, A, b)"
   ]
  },
  {
   "cell_type": "code",
   "execution_count": 72,
   "id": "mighty-baptist",
   "metadata": {},
   "outputs": [],
   "source": [
    "weights = np.array(sol['x'])"
   ]
  },
  {
   "cell_type": "code",
   "execution_count": 73,
   "id": "previous-tracker",
   "metadata": {},
   "outputs": [
    {
     "name": "stdout",
     "output_type": "stream",
     "text": [
      "[[6.66666561e-01]\n",
      " [4.80533445e-08]\n",
      " [3.33333391e-01]]\n"
     ]
    }
   ],
   "source": [
    "print(weights)"
   ]
  },
  {
   "cell_type": "code",
   "execution_count": 74,
   "id": "blond-deviation",
   "metadata": {},
   "outputs": [
    {
     "data": {
      "text/plain": [
       "[14, 8, 20]"
      ]
     },
     "execution_count": 74,
     "metadata": {},
     "output_type": "execute_result"
    }
   ],
   "source": [
    "avg_ret"
   ]
  },
  {
   "cell_type": "code",
   "execution_count": 75,
   "id": "fallen-toolbox",
   "metadata": {},
   "outputs": [
    {
     "data": {
      "text/plain": [
       "array([16.00000006])"
      ]
     },
     "execution_count": 75,
     "metadata": {},
     "output_type": "execute_result"
    }
   ],
   "source": [
    "weights.T@avg_ret"
   ]
  },
  {
   "cell_type": "code",
   "execution_count": 76,
   "id": "overall-think",
   "metadata": {},
   "outputs": [
    {
     "data": {
      "text/plain": [
       "array([[49.00000489]])"
      ]
     },
     "execution_count": 76,
     "metadata": {},
     "output_type": "execute_result"
    }
   ],
   "source": [
    "weights.T@cov@weights"
   ]
  },
  {
   "cell_type": "code",
   "execution_count": 73,
   "id": "duplicate-neighbor",
   "metadata": {},
   "outputs": [],
   "source": [
    "def efficient_frontier(r̄, cov):\n",
    "    opt.solvers.options['show_progress'] = False\n",
    "    n = len(r̄)\n",
    "    \n",
    "    P = opt.matrix(cov)\n",
    "    q = opt.matrix(np.zeros((n, 1)))\n",
    "    G = opt.matrix(np.concatenate((\n",
    "                -np.transpose(np.array(r̄))[None,:], \n",
    "                -np.identity(n)), 0))\n",
    "    \n",
    "    A = opt.matrix(1.0, (1,n))\n",
    "    b = opt.matrix(1.0)\n",
    "    \n",
    "    min_r̄ = min(r̄)\n",
    "    max_r̄ = max(r̄)\n",
    "    print(min_r̄)\n",
    "    R_π = []\n",
    "    σ_π = []\n",
    "    for r in np.arange(min_r̄, max_r̄, 0.0001):\n",
    "        h = opt.matrix(np.concatenate((np.ones((1,1))*-r, np.zeros((n,1)))))\n",
    "        sol = opt.solvers.qp(P, q, G, h, A, b)\n",
    "        weights = np.array(sol['x'])\n",
    "        R_π.append(weights.T@r̄)\n",
    "        σ_π.append((weights.T@cov@weights)[0])\n",
    "        \n",
    "    σs = np.diag(cov)\n",
    "    \n",
    "    plt.title('Efficient Frontier', size = 18)\n",
    "    plt.plot(np.sqrt(σ_π), R_π)\n",
    "    plt.scatter(np.sqrt(σs), r̄, marker='x', color='red', s=100)\n",
    "    \n",
    "\n",
    "    plt.ylabel('$r_p$', size=14)\n",
    "    plt.xlabel('$\\sigma_p$', size=14)\n",
    "    plt.show()\n",
    "        \n",
    "    \n"
   ]
  },
  {
   "cell_type": "code",
   "execution_count": 74,
   "id": "front-philosophy",
   "metadata": {},
   "outputs": [
    {
     "name": "stdout",
     "output_type": "stream",
     "text": [
      "0.0158\n"
     ]
    },
    {
     "data": {
      "image/png": "[encoded data removed]",
      "text/plain": [
       "<Figure size 576x396 with 1 Axes>"
      ]
     },
     "metadata": {},
     "output_type": "display_data"
    }
   ],
   "source": [
    "efficient_frontier(avg_ret, cov)"
   ]
  },
  {
   "cell_type": "markdown",
   "id": "headed-childhood",
   "metadata": {},
   "source": [
    "# Test"
   ]
  },
  {
   "cell_type": "code",
   "execution_count": 99,
   "id": "architectural-hayes",
   "metadata": {},
   "outputs": [],
   "source": [
    "# P matrix is the covariance matrix\n",
    "P = opt.matrix(cov)\n",
    "q = opt.matrix(np.zeros((n, 1)))"
   ]
  },
  {
   "cell_type": "code",
   "execution_count": 100,
   "id": "responsible-chaos",
   "metadata": {},
   "outputs": [],
   "source": [
    "G = opt.matrix(-np.identity(n))"
   ]
  },
  {
   "cell_type": "code",
   "execution_count": 101,
   "id": "taken-accountability",
   "metadata": {},
   "outputs": [
    {
     "data": {
      "text/plain": [
       "array([[-1., -0., -0.],\n",
       "       [-0., -1., -0.],\n",
       "       [-0., -0., -1.]])"
      ]
     },
     "execution_count": 101,
     "metadata": {},
     "output_type": "execute_result"
    }
   ],
   "source": [
    "np.array(G)"
   ]
  },
  {
   "cell_type": "code",
   "execution_count": 102,
   "id": "municipal-symphony",
   "metadata": {},
   "outputs": [],
   "source": [
    "h = opt.matrix(np.zeros((n,1)))"
   ]
  },
  {
   "cell_type": "code",
   "execution_count": 103,
   "id": "tender-orlando",
   "metadata": {},
   "outputs": [],
   "source": [
    "A = opt.matrix(np.concatenate((\n",
    "                np.transpose(np.array(avg_ret))[None,:], \n",
    "                np.transpose(np.ones((n,1)))), 0))"
   ]
  },
  {
   "cell_type": "code",
   "execution_count": 104,
   "id": "leading-microphone",
   "metadata": {},
   "outputs": [
    {
     "data": {
      "text/plain": [
       "array([[14.,  8., 20.],\n",
       "       [ 1.,  1.,  1.]])"
      ]
     },
     "execution_count": 104,
     "metadata": {},
     "output_type": "execute_result"
    }
   ],
   "source": [
    "np.array(A)"
   ]
  },
  {
   "cell_type": "code",
   "execution_count": 105,
   "id": "ready-shark",
   "metadata": {},
   "outputs": [],
   "source": [
    "b = opt.matrix(np.array([16, 1]))"
   ]
  },
  {
   "cell_type": "code",
   "execution_count": 106,
   "id": "balanced-mambo",
   "metadata": {},
   "outputs": [
    {
     "data": {
      "text/plain": [
       "array([[14.,  8., 20.],\n",
       "       [ 1.,  1.,  1.]])"
      ]
     },
     "execution_count": 106,
     "metadata": {},
     "output_type": "execute_result"
    }
   ],
   "source": [
    "np.array(A)"
   ]
  },
  {
   "cell_type": "code",
   "execution_count": 90,
   "id": "controversial-tennis",
   "metadata": {},
   "outputs": [
    {
     "data": {
      "text/plain": [
       "array([[1.],\n",
       "       [1.],\n",
       "       [1.]])"
      ]
     },
     "execution_count": 90,
     "metadata": {},
     "output_type": "execute_result"
    }
   ],
   "source": [
    "np.ones((n,1))"
   ]
  },
  {
   "cell_type": "code",
   "execution_count": 91,
   "id": "flexible-catalog",
   "metadata": {},
   "outputs": [
    {
     "data": {
      "text/plain": [
       "array([[-14,  -8, -20]])"
      ]
     },
     "execution_count": 91,
     "metadata": {},
     "output_type": "execute_result"
    }
   ],
   "source": [
    "-np.transpose(np.array(avg_ret))[None,:]"
   ]
  },
  {
   "cell_type": "code",
   "execution_count": 92,
   "id": "brave-discretion",
   "metadata": {},
   "outputs": [],
   "source": [
    "A = np.concatenate((\n",
    "                -np.transpose(np.array(avg_ret))[None,:], \n",
    "                np.transpose(np.ones((n,1)))), 0)"
   ]
  },
  {
   "cell_type": "code",
   "execution_count": 93,
   "id": "twelve-inspector",
   "metadata": {},
   "outputs": [
    {
     "data": {
      "text/plain": [
       "(1, 3)"
      ]
     },
     "execution_count": 93,
     "metadata": {},
     "output_type": "execute_result"
    }
   ],
   "source": [
    "np.transpose(np.array(avg_ret))[None,:].shape"
   ]
  },
  {
   "cell_type": "code",
   "execution_count": 94,
   "id": "yellow-possession",
   "metadata": {},
   "outputs": [
    {
     "data": {
      "text/plain": [
       "(3, 1)"
      ]
     },
     "execution_count": 94,
     "metadata": {},
     "output_type": "execute_result"
    }
   ],
   "source": [
    "np.ones((n,1)).shape"
   ]
  },
  {
   "cell_type": "code",
   "execution_count": 95,
   "id": "herbal-minute",
   "metadata": {},
   "outputs": [
    {
     "data": {
      "image/png": "[encoded data removed]",
      "text/plain": [
       "<Figure size 576x396 with 1 Axes>"
      ]
     },
     "metadata": {},
     "output_type": "display_data"
    }
   ],
   "source": [
    "efficient_frontier(avg_ret, cov)"
   ]
  },
  {
   "cell_type": "code",
   "execution_count": 96,
   "id": "oriental-berlin",
   "metadata": {},
   "outputs": [],
   "source": [
    "def efficient_frontier(r̄, cov):\n",
    "    opt.solvers.options['show_progress'] = False\n",
    "    n = len(r̄)\n",
    "    \n",
    "    # minimize\n",
    "    P = opt.matrix(cov)\n",
    "    q = opt.matrix(np.zeros((n, 1)))\n",
    "    \n",
    "    # subject to inequality constraints\n",
    "    G = opt.matrix(-np.identity(n))\n",
    "    h = opt.matrix(np.zeros((n,1)))\n",
    "    \n",
    "    \n",
    "    # subject to equality constraints\n",
    "    A = opt.matrix(np.concatenate((\n",
    "                np.transpose(np.array(r̄))[None,:], \n",
    "                np.transpose(np.ones((n,1)))), 0))\n",
    "   \n",
    "    min_r̄ = min(r̄)\n",
    "    max_r̄ = max(r̄)\n",
    "    R_π = []\n",
    "    σ_π = []\n",
    "    for r in np.arange(min_r̄, max_r̄, 0.001):\n",
    "        b = opt.matrix(np.array([r, 1]))\n",
    "        sol = opt.solvers.qp(P, q, G, h, A, b)\n",
    "        weights = np.array(sol['x'])\n",
    "        R_π.append(weights.T@r̄)\n",
    "        σ_π.append((weights.T@cov@weights)[0])\n",
    "        \n",
    "    σs = np.diag(cov)\n",
    "    \n",
    "    plt.title('Efficient Frontier', size = 18)\n",
    "    plt.plot(np.sqrt(σ_π), R_π)\n",
    "    plt.scatter(np.sqrt(σs), r̄, marker='x', color='red', s=100)\n",
    "    \n",
    "\n",
    "    plt.ylabel('$r_p$', size=14)\n",
    "    plt.xlabel('$\\sigma_p$', size=14)\n",
    "    plt.show()\n",
    "        "
   ]
  },
  {
   "cell_type": "code",
   "execution_count": 97,
   "id": "swedish-cruise",
   "metadata": {},
   "outputs": [
    {
     "data": {
      "image/png": "[encoded data removed]",
      "text/plain": [
       "<Figure size 576x396 with 1 Axes>"
      ]
     },
     "metadata": {},
     "output_type": "display_data"
    }
   ],
   "source": [
    "efficient_frontier(avg_ret, cov)"
   ]
  },
  {
   "cell_type": "code",
   "execution_count": null,
   "id": "restricted-circular",
   "metadata": {},
   "outputs": [],
   "source": []
  },
  {
   "cell_type": "code",
   "execution_count": null,
   "id": "logical-yahoo",
   "metadata": {},
   "outputs": [],
   "source": []
  }
 ],
 "metadata": {
  "kernelspec": {
   "display_name": "Python 3",
   "language": "python",
   "name": "python3"
  },
  "language_info": {
   "codemirror_mode": {
    "name": "ipython",
    "version": 3
   },
   "file_extension": ".py",
   "mimetype": "text/x-python",
   "name": "python",
   "nbconvert_exporter": "python",
   "pygments_lexer": "ipython3",
   "version": "3.8.7"
  }
 },
 "nbformat": 4,
 "nbformat_minor": 5
}
