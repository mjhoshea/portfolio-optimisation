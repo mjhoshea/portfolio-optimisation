{
 "cells": [
  {
   "cell_type": "markdown",
   "id": "federal-aside",
   "metadata": {},
   "source": [
    "# Chapter 4: The Characteristics of the Opportunity Set Under Risk"
   ]
  },
  {
   "cell_type": "code",
   "execution_count": 1,
   "id": "heated-chain",
   "metadata": {},
   "outputs": [],
   "source": [
    "import pandas as pd\n",
    "import numpy as np\n",
    "import seaborn as sns\n",
    "import matplotlib.pyplot as plt"
   ]
  },
  {
   "cell_type": "code",
   "execution_count": 2,
   "id": "theoretical-sailing",
   "metadata": {},
   "outputs": [],
   "source": [
    "plt.style.use(['science', 'retro', 'grid'])"
   ]
  },
  {
   "cell_type": "markdown",
   "id": "smoking-brazil",
   "metadata": {},
   "source": [
    "## Determining the Average Return\n",
    "\n",
    "Let $R_{t}$ denote the return on a stock measured at time t relative to tiem t-1. Then we may give the average return as\n",
    "\n",
    "$$\\bar{R} = \\sum_{t=1}^T \\frac{R_t}{T} $$ \n",
    "\n",
    "where $R_t$ is given by\n",
    "\n",
    "$$R_t = \\frac{S_t - S_{t-1}}{S_{t-1}}$$\n",
    "\n",
    "#### Example with NatWest stock"
   ]
  },
  {
   "cell_type": "code",
   "execution_count": 6,
   "id": "fossil-clearance",
   "metadata": {},
   "outputs": [
    {
     "data": {
      "text/html": [
       "<div>\n",
       "<style scoped>\n",
       "    .dataframe tbody tr th:only-of-type {\n",
       "        vertical-align: middle;\n",
       "    }\n",
       "\n",
       "    .dataframe tbody tr th {\n",
       "        vertical-align: top;\n",
       "    }\n",
       "\n",
       "    .dataframe thead th {\n",
       "        text-align: right;\n",
       "    }\n",
       "</style>\n",
       "<table border=\"1\" class=\"dataframe\">\n",
       "  <thead>\n",
       "    <tr style=\"text-align: right;\">\n",
       "      <th></th>\n",
       "      <th>Date</th>\n",
       "      <th>Open</th>\n",
       "      <th>High</th>\n",
       "      <th>Low</th>\n",
       "      <th>Close</th>\n",
       "      <th>Adj Close</th>\n",
       "      <th>Volume</th>\n",
       "    </tr>\n",
       "  </thead>\n",
       "  <tbody>\n",
       "    <tr>\n",
       "      <th>0</th>\n",
       "      <td>2020-02-24</td>\n",
       "      <td>199.949997</td>\n",
       "      <td>200.000000</td>\n",
       "      <td>195.074997</td>\n",
       "      <td>197.750000</td>\n",
       "      <td>190.519653</td>\n",
       "      <td>29279556</td>\n",
       "    </tr>\n",
       "    <tr>\n",
       "      <th>1</th>\n",
       "      <td>2020-02-25</td>\n",
       "      <td>201.399994</td>\n",
       "      <td>202.199997</td>\n",
       "      <td>193.550003</td>\n",
       "      <td>195.100006</td>\n",
       "      <td>187.966553</td>\n",
       "      <td>30337607</td>\n",
       "    </tr>\n",
       "    <tr>\n",
       "      <th>2</th>\n",
       "      <td>2020-02-26</td>\n",
       "      <td>194.300003</td>\n",
       "      <td>195.399994</td>\n",
       "      <td>190.899994</td>\n",
       "      <td>193.050003</td>\n",
       "      <td>185.991501</td>\n",
       "      <td>27558821</td>\n",
       "    </tr>\n",
       "    <tr>\n",
       "      <th>3</th>\n",
       "      <td>2020-02-27</td>\n",
       "      <td>190.199997</td>\n",
       "      <td>190.949997</td>\n",
       "      <td>182.149994</td>\n",
       "      <td>183.399994</td>\n",
       "      <td>176.694321</td>\n",
       "      <td>30710076</td>\n",
       "    </tr>\n",
       "    <tr>\n",
       "      <th>4</th>\n",
       "      <td>2020-02-28</td>\n",
       "      <td>179.000000</td>\n",
       "      <td>180.500000</td>\n",
       "      <td>173.350006</td>\n",
       "      <td>178.649994</td>\n",
       "      <td>172.117996</td>\n",
       "      <td>43847533</td>\n",
       "    </tr>\n",
       "  </tbody>\n",
       "</table>\n",
       "</div>"
      ],
      "text/plain": [
       "         Date        Open        High         Low       Close   Adj Close  \\\n",
       "0  2020-02-24  199.949997  200.000000  195.074997  197.750000  190.519653   \n",
       "1  2020-02-25  201.399994  202.199997  193.550003  195.100006  187.966553   \n",
       "2  2020-02-26  194.300003  195.399994  190.899994  193.050003  185.991501   \n",
       "3  2020-02-27  190.199997  190.949997  182.149994  183.399994  176.694321   \n",
       "4  2020-02-28  179.000000  180.500000  173.350006  178.649994  172.117996   \n",
       "\n",
       "     Volume  \n",
       "0  29279556  \n",
       "1  30337607  \n",
       "2  27558821  \n",
       "3  30710076  \n",
       "4  43847533  "
      ]
     },
     "execution_count": 6,
     "metadata": {},
     "output_type": "execute_result"
    }
   ],
   "source": [
    "nwg_df = pd.read_csv('../data/yahoo/NWG.L.csv')\n",
    "nwg_df.head()"
   ]
  },
  {
   "cell_type": "code",
   "execution_count": 24,
   "id": "hourly-legislature",
   "metadata": {},
   "outputs": [],
   "source": [
    "def calc_return(price):\n",
    "    return [0] + [(b-a)/a for (a, b) in zip(price, price[1:])]"
   ]
  },
  {
   "cell_type": "code",
   "execution_count": 16,
   "id": "colonial-latex",
   "metadata": {},
   "outputs": [],
   "source": [
    "nwg_df['Perc. Returns'] = calc_returns(nwg_df['Close'])"
   ]
  },
  {
   "cell_type": "code",
   "execution_count": 18,
   "id": "chinese-engineering",
   "metadata": {},
   "outputs": [
    {
     "data": {
      "text/html": [
       "<div>\n",
       "<style scoped>\n",
       "    .dataframe tbody tr th:only-of-type {\n",
       "        vertical-align: middle;\n",
       "    }\n",
       "\n",
       "    .dataframe tbody tr th {\n",
       "        vertical-align: top;\n",
       "    }\n",
       "\n",
       "    .dataframe thead th {\n",
       "        text-align: right;\n",
       "    }\n",
       "</style>\n",
       "<table border=\"1\" class=\"dataframe\">\n",
       "  <thead>\n",
       "    <tr style=\"text-align: right;\">\n",
       "      <th></th>\n",
       "      <th>Date</th>\n",
       "      <th>Open</th>\n",
       "      <th>High</th>\n",
       "      <th>Low</th>\n",
       "      <th>Close</th>\n",
       "      <th>Adj Close</th>\n",
       "      <th>Volume</th>\n",
       "      <th>Perc. Returns</th>\n",
       "    </tr>\n",
       "  </thead>\n",
       "  <tbody>\n",
       "    <tr>\n",
       "      <th>0</th>\n",
       "      <td>2020-02-24</td>\n",
       "      <td>199.949997</td>\n",
       "      <td>200.000000</td>\n",
       "      <td>195.074997</td>\n",
       "      <td>197.750000</td>\n",
       "      <td>190.519653</td>\n",
       "      <td>29279556</td>\n",
       "      <td>0.000000</td>\n",
       "    </tr>\n",
       "    <tr>\n",
       "      <th>1</th>\n",
       "      <td>2020-02-25</td>\n",
       "      <td>201.399994</td>\n",
       "      <td>202.199997</td>\n",
       "      <td>193.550003</td>\n",
       "      <td>195.100006</td>\n",
       "      <td>187.966553</td>\n",
       "      <td>30337607</td>\n",
       "      <td>-0.013401</td>\n",
       "    </tr>\n",
       "    <tr>\n",
       "      <th>2</th>\n",
       "      <td>2020-02-26</td>\n",
       "      <td>194.300003</td>\n",
       "      <td>195.399994</td>\n",
       "      <td>190.899994</td>\n",
       "      <td>193.050003</td>\n",
       "      <td>185.991501</td>\n",
       "      <td>27558821</td>\n",
       "      <td>-0.010507</td>\n",
       "    </tr>\n",
       "    <tr>\n",
       "      <th>3</th>\n",
       "      <td>2020-02-27</td>\n",
       "      <td>190.199997</td>\n",
       "      <td>190.949997</td>\n",
       "      <td>182.149994</td>\n",
       "      <td>183.399994</td>\n",
       "      <td>176.694321</td>\n",
       "      <td>30710076</td>\n",
       "      <td>-0.049987</td>\n",
       "    </tr>\n",
       "    <tr>\n",
       "      <th>4</th>\n",
       "      <td>2020-02-28</td>\n",
       "      <td>179.000000</td>\n",
       "      <td>180.500000</td>\n",
       "      <td>173.350006</td>\n",
       "      <td>178.649994</td>\n",
       "      <td>172.117996</td>\n",
       "      <td>43847533</td>\n",
       "      <td>-0.025900</td>\n",
       "    </tr>\n",
       "  </tbody>\n",
       "</table>\n",
       "</div>"
      ],
      "text/plain": [
       "         Date        Open        High         Low       Close   Adj Close  \\\n",
       "0  2020-02-24  199.949997  200.000000  195.074997  197.750000  190.519653   \n",
       "1  2020-02-25  201.399994  202.199997  193.550003  195.100006  187.966553   \n",
       "2  2020-02-26  194.300003  195.399994  190.899994  193.050003  185.991501   \n",
       "3  2020-02-27  190.199997  190.949997  182.149994  183.399994  176.694321   \n",
       "4  2020-02-28  179.000000  180.500000  173.350006  178.649994  172.117996   \n",
       "\n",
       "     Volume  Perc. Returns  \n",
       "0  29279556       0.000000  \n",
       "1  30337607      -0.013401  \n",
       "2  27558821      -0.010507  \n",
       "3  30710076      -0.049987  \n",
       "4  43847533      -0.025900  "
      ]
     },
     "execution_count": 18,
     "metadata": {},
     "output_type": "execute_result"
    }
   ],
   "source": [
    "nwg_df.head()"
   ]
  },
  {
   "cell_type": "markdown",
   "id": "thousand-recommendation",
   "metadata": {},
   "source": [
    "## Variance - A measure of dispersion\n",
    "\n",
    "An investor is inclined towards high returns but adverse to high risk. We therfore need a measure of risk. Variance gives us a way to do just that.\n",
    "\n",
    "$$\\sigma^2 = \\sum_{t=1}^{T} \\frac{(R_t - \\bar{R)}}{T}$$\n",
    "\n",
    "#### Example with NatWest stock"
   ]
  },
  {
   "cell_type": "code",
   "execution_count": 31,
   "id": "falling-diagnosis",
   "metadata": {},
   "outputs": [],
   "source": [
    "def calc_average(returns):\n",
    "    # -1 because first row contains no return information\n",
    "    return sum(returns)/(len(returns)-1)"
   ]
  },
  {
   "cell_type": "code",
   "execution_count": 32,
   "id": "statutory-proportion",
   "metadata": {},
   "outputs": [
    {
     "data": {
      "text/plain": [
       "0.0003767706254256973"
      ]
     },
     "execution_count": 32,
     "metadata": {},
     "output_type": "execute_result"
    }
   ],
   "source": [
    "av = calc_average(nwg_df['Perc. Returns'])\n",
    "av"
   ]
  },
  {
   "cell_type": "code",
   "execution_count": 28,
   "id": "blocked-saint",
   "metadata": {},
   "outputs": [],
   "source": [
    "def calc_variance(returns):\n",
    "    R̄ = calc_average(returns)\n",
    "    return sum([(R - R̄)**2 for R in returns[1:]]) / len(returns-1)"
   ]
  },
  {
   "cell_type": "code",
   "execution_count": 40,
   "id": "color-increase",
   "metadata": {},
   "outputs": [
    {
     "data": {
      "text/plain": [
       "0.0012095536716915081"
      ]
     },
     "execution_count": 40,
     "metadata": {},
     "output_type": "execute_result"
    }
   ],
   "source": [
    "var = calc_variance(nwg_df['Perc. Returns'])\n",
    "var"
   ]
  },
  {
   "cell_type": "markdown",
   "id": "beginning-corpus",
   "metadata": {},
   "source": [
    "## Variance of Combinations of Assets\n",
    "\n",
    "The choices to an investor are not simply to pick between a number of assets but how they may allocate investment amongst them. The risk of a combination of assests is very different to the risk on a single asset.\n",
    "\n",
    "#### Retrun on a portfolio\n",
    "\n",
    "First we mention the return on a portfolio. The return on the portfolio is simply the weighted average of the return on the individual assets. Let i index the asset then\n",
    "\n",
    "$$ \\bar{R_\\pi} = \\sum_{i=1}^{N}X_i \\bar{R_i} $$\n",
    "\n",
    "#### Variance on a portfolio\n",
    "\n",
    "The variance on a portfolio is less simple. It is the expected value of the square deviations of the return on the portfolio from the mean on the portfolio.\n",
    "\n",
    "$$\\sigma_{\\pi}^2 = E[(R_\\pi - \\bar{R}_{\\pi})^2]$$\n",
    "\n",
    "It is instructive to carry out analysis on two stocks\n",
    "\n",
    "$$\\sigma_{\\pi}^2 = E[(X_1 R_1 + X_2 R_2 - X_1 \\bar{R}_1 -  X_2 \\bar{R}_2)^2]$$\n",
    "\n",
    "$$\\sigma_{\\pi}^2 = E[((X_1(R_1 - \\bar{R}_1) + X_2 (R_2  -  \\bar{R}_2))^2]$$\n",
    "\n",
    "$$\\sigma_{\\pi}^2 = E[X_1^2(R_1 - \\bar{R}_1)^2 +  2 X_1 X_2 (R_1 - \\bar{R}_1)(R_2 - \\bar{R}_2) + X_2^2(R_2  -  \\bar{R}_2)]$$\n",
    "\n",
    "$$\\sigma_{\\pi}^2 = X_1 ^2 E[(R_1 - \\bar{R}_1)^2] +  2 X_1 X_2 E[( R_1 - \\bar{R}_1)(R_2 - \\bar{R}_2)] + X_2^2E[(R_2  - \\bar{R}_2)]$$\n",
    "\n",
    "$$\\sigma_{\\pi}^2 = X_1^2\\sigma_1^2 + 2 X_1 X_2 \\sigma_{12}^2 + X_2^2\\sigma_2^2$$\n",
    "\n",
    "#### Example with NatWest and EasyJet Stock"
   ]
  },
  {
   "cell_type": "code",
   "execution_count": 42,
   "id": "placed-webcam",
   "metadata": {},
   "outputs": [
    {
     "data": {
      "text/html": [
       "<div>\n",
       "<style scoped>\n",
       "    .dataframe tbody tr th:only-of-type {\n",
       "        vertical-align: middle;\n",
       "    }\n",
       "\n",
       "    .dataframe tbody tr th {\n",
       "        vertical-align: top;\n",
       "    }\n",
       "\n",
       "    .dataframe thead th {\n",
       "        text-align: right;\n",
       "    }\n",
       "</style>\n",
       "<table border=\"1\" class=\"dataframe\">\n",
       "  <thead>\n",
       "    <tr style=\"text-align: right;\">\n",
       "      <th></th>\n",
       "      <th>Date</th>\n",
       "      <th>Open</th>\n",
       "      <th>High</th>\n",
       "      <th>Low</th>\n",
       "      <th>Close</th>\n",
       "      <th>Adj Close</th>\n",
       "      <th>Volume</th>\n",
       "      <th>Perc. Returns</th>\n",
       "    </tr>\n",
       "  </thead>\n",
       "  <tbody>\n",
       "    <tr>\n",
       "      <th>0</th>\n",
       "      <td>2020-03-02</td>\n",
       "      <td>1141.500000</td>\n",
       "      <td>1146.0</td>\n",
       "      <td>1030.000000</td>\n",
       "      <td>1062.5</td>\n",
       "      <td>1062.5</td>\n",
       "      <td>5705383</td>\n",
       "      <td>0.000000</td>\n",
       "    </tr>\n",
       "    <tr>\n",
       "      <th>1</th>\n",
       "      <td>2020-03-03</td>\n",
       "      <td>1085.000000</td>\n",
       "      <td>1115.5</td>\n",
       "      <td>1070.000000</td>\n",
       "      <td>1070.0</td>\n",
       "      <td>1070.0</td>\n",
       "      <td>3372599</td>\n",
       "      <td>0.007059</td>\n",
       "    </tr>\n",
       "    <tr>\n",
       "      <th>2</th>\n",
       "      <td>2020-03-04</td>\n",
       "      <td>1077.500000</td>\n",
       "      <td>1089.5</td>\n",
       "      <td>1041.000000</td>\n",
       "      <td>1057.5</td>\n",
       "      <td>1057.5</td>\n",
       "      <td>3002244</td>\n",
       "      <td>-0.011682</td>\n",
       "    </tr>\n",
       "    <tr>\n",
       "      <th>3</th>\n",
       "      <td>2020-03-05</td>\n",
       "      <td>1071.000000</td>\n",
       "      <td>1090.5</td>\n",
       "      <td>1008.500000</td>\n",
       "      <td>1010.5</td>\n",
       "      <td>1010.5</td>\n",
       "      <td>2291729</td>\n",
       "      <td>-0.044444</td>\n",
       "    </tr>\n",
       "    <tr>\n",
       "      <th>4</th>\n",
       "      <td>2020-03-06</td>\n",
       "      <td>981.200012</td>\n",
       "      <td>1005.0</td>\n",
       "      <td>946.400024</td>\n",
       "      <td>1000.0</td>\n",
       "      <td>1000.0</td>\n",
       "      <td>7187572</td>\n",
       "      <td>-0.010391</td>\n",
       "    </tr>\n",
       "  </tbody>\n",
       "</table>\n",
       "</div>"
      ],
      "text/plain": [
       "         Date         Open    High          Low   Close  Adj Close   Volume  \\\n",
       "0  2020-03-02  1141.500000  1146.0  1030.000000  1062.5     1062.5  5705383   \n",
       "1  2020-03-03  1085.000000  1115.5  1070.000000  1070.0     1070.0  3372599   \n",
       "2  2020-03-04  1077.500000  1089.5  1041.000000  1057.5     1057.5  3002244   \n",
       "3  2020-03-05  1071.000000  1090.5  1008.500000  1010.5     1010.5  2291729   \n",
       "4  2020-03-06   981.200012  1005.0   946.400024  1000.0     1000.0  7187572   \n",
       "\n",
       "   Perc. Returns  \n",
       "0       0.000000  \n",
       "1       0.007059  \n",
       "2      -0.011682  \n",
       "3      -0.044444  \n",
       "4      -0.010391  "
      ]
     },
     "execution_count": 42,
     "metadata": {},
     "output_type": "execute_result"
    }
   ],
   "source": [
    "ezj_df = pd.read_csv('../data/yahoo/EZJ.L.csv')\n",
    "ezj_df['Perc. Returns'] = calc_returns(ezj_df['Close'])\n",
    "ezj_df.head()"
   ]
  },
  {
   "cell_type": "code",
   "execution_count": 50,
   "id": "fundamental-example",
   "metadata": {},
   "outputs": [],
   "source": [
    "def calc_covariance(returns1, returns2):\n",
    "    R̄_1 = calc_average(returns1)\n",
    "    R̄_2 = calc_average(returns2)\n",
    "    \n",
    "    disp = [(a - R̄_1)*(b - R̄_2) for (a,b) in zip(returns1[1:], returns2[1:])]\n",
    "    return sum(disp)/len(disp)"
   ]
  },
  {
   "cell_type": "code",
   "execution_count": 51,
   "id": "japanese-romania",
   "metadata": {},
   "outputs": [
    {
     "data": {
      "text/plain": [
       "5.7140875127572214e-05"
      ]
     },
     "execution_count": 51,
     "metadata": {},
     "output_type": "execute_result"
    }
   ],
   "source": [
    "covar = calc_covariance(nwg_df['Perc. Returns'], ezj_df['Perc. Returns'])\n",
    "covar"
   ]
  },
  {
   "cell_type": "code",
   "execution_count": 62,
   "id": "boxed-telescope",
   "metadata": {},
   "outputs": [],
   "source": [
    "def calc_portfolio_var(x1, returns1, x2, returns2):\n",
    "    var1 = calc_variance(returns1)\n",
    "    var2 = calc_variance(returns2)\n",
    "    \n",
    "    covar = calc_covariance(returns1, returns2)\n",
    "    \n",
    "    \n",
    "    return x1**2*var1 + 2*x1*x2*covar + x2**2*var2    "
   ]
  },
  {
   "cell_type": "code",
   "execution_count": 64,
   "id": "desperate-spokesman",
   "metadata": {},
   "outputs": [
    {
     "data": {
      "text/plain": [
       "0.0011096205134978683"
      ]
     },
     "execution_count": 64,
     "metadata": {},
     "output_type": "execute_result"
    }
   ],
   "source": [
    "σ_π = calc_portfolio_var(0.5, nwg_df['Perc. Returns'], 0.5, ezj_df['Perc. Returns'])\n",
    "σ_π"
   ]
  },
  {
   "cell_type": "markdown",
   "id": "junior-stationery",
   "metadata": {},
   "source": [
    "## Reducing Risk: Without Correlation \n"
   ]
  },
  {
   "cell_type": "code",
   "execution_count": 3,
   "id": "honey-track",
   "metadata": {},
   "outputs": [],
   "source": [
    "variances = np.random.rand(100)"
   ]
  },
  {
   "cell_type": "code",
   "execution_count": 4,
   "id": "close-strain",
   "metadata": {},
   "outputs": [],
   "source": [
    "π_vars = []\n",
    "for i in range(1, len(variances)):\n",
    "    vs = variances[:i]\n",
    "    v = vs.sum()/i**2\n",
    "    π_vars.append(v)"
   ]
  },
  {
   "cell_type": "code",
   "execution_count": 5,
   "id": "blessed-render",
   "metadata": {},
   "outputs": [
    {
     "data": {
      "text/plain": [
       "[<matplotlib.lines.Line2D at 0x127cc1610>]"
      ]
     },
     "execution_count": 5,
     "metadata": {},
     "output_type": "execute_result"
    },
    {
     "data": {
      "image/png": "[encoded data removed]",
      "text/plain": [
       "<Figure size 800x600 with 1 Axes>"
      ]
     },
     "metadata": {
      "needs_background": "light"
     },
     "output_type": "display_data"
    }
   ],
   "source": [
    "plt.figure(figsize=(8, 6), dpi=100)\n",
    "plt.plot(np.arange(0,99), π_vars)"
   ]
  },
  {
   "cell_type": "markdown",
   "id": "former-croatia",
   "metadata": {},
   "source": [
    "## Reducing Risk: With Correlation "
   ]
  },
  {
   "cell_type": "code",
   "execution_count": 6,
   "id": "industrial-lawrence",
   "metadata": {},
   "outputs": [],
   "source": [
    "N = 1000\n",
    "A = np.random.rand(N, N)/10\n",
    "Σ = np.dot(A, A.transpose())"
   ]
  },
  {
   "cell_type": "code",
   "execution_count": 7,
   "id": "automotive-equivalent",
   "metadata": {},
   "outputs": [],
   "source": [
    "π_vars = []\n",
    "for i in range(2, N):\n",
    "    σs = Σ[:i, :i]\n",
    "    a = σs[np.eye(σs.shape[0],dtype=bool)].sum()/i**2\n",
    "    b = σs[~np.eye(σs.shape[0],dtype=bool)].sum()/(i**2)\n",
    "    tot = a + b\n",
    "    π_vars.append(tot)"
   ]
  },
  {
   "cell_type": "code",
   "execution_count": 9,
   "id": "muslim-transfer",
   "metadata": {},
   "outputs": [
    {
     "data": {
      "text/plain": [
       "[<matplotlib.lines.Line2D at 0x127ee5910>]"
      ]
     },
     "execution_count": 9,
     "metadata": {},
     "output_type": "execute_result"
    },
    {
     "data": {
      "image/png": "[encoded data removed]",
      "text/plain": [
       "<Figure size 800x600 with 1 Axes>"
      ]
     },
     "metadata": {
      "needs_background": "light"
     },
     "output_type": "display_data"
    }
   ],
   "source": [
    "plt.figure(figsize=(8, 6), dpi=100)\n",
    "plt.plot(np.arange(2, N), π_vars)"
   ]
  },
  {
   "cell_type": "code",
   "execution_count": 11,
   "id": "copyrighted-archive",
   "metadata": {},
   "outputs": [
    {
     "data": {
      "text/plain": [
       "2.4962060844130973"
      ]
     },
     "execution_count": 11,
     "metadata": {},
     "output_type": "execute_result"
    }
   ],
   "source": [
    "σs[~np.eye(σs.shape[0],dtype=bool)].sum()/(1000*999)"
   ]
  },
  {
   "cell_type": "code",
   "execution_count": 131,
   "id": "therapeutic-delay",
   "metadata": {},
   "outputs": [
    {
     "data": {
      "text/plain": [
       "-0.022821896040636593"
      ]
     },
     "execution_count": 131,
     "metadata": {},
     "output_type": "execute_result"
    }
   ],
   "source": [
    "Σ[~np.eye(Σ.shape[0],dtype=bool)].sum()/100**2"
   ]
  },
  {
   "cell_type": "code",
   "execution_count": null,
   "id": "impressed-westminster",
   "metadata": {},
   "outputs": [],
   "source": []
  },
  {
   "cell_type": "markdown",
   "id": "heated-gross",
   "metadata": {},
   "source": [
    "## Bond Stock Allocation"
   ]
  },
  {
   "cell_type": "code",
   "execution_count": 11,
   "id": "domestic-karaoke",
   "metadata": {},
   "outputs": [],
   "source": [
    "# stock statistics\n",
    "r_s = 0.118 \n",
    "σ_s = 0.203\n",
    "\n",
    "# bond statistics\n",
    "r_b = 0.064\n",
    "σ_b = 0.084\n",
    "\n",
    "# correlation coefficient\n",
    "ρ_sb = 0.01"
   ]
  },
  {
   "cell_type": "code",
   "execution_count": 12,
   "id": "conceptual-cooper",
   "metadata": {},
   "outputs": [],
   "source": [
    "def calc_π_r(r_i, x_i, r_j, x_j):\n",
    "    assert x_i + x_j == 1\n",
    "    \n",
    "    return r_i*x_i + r_j*x_j"
   ]
  },
  {
   "cell_type": "code",
   "execution_count": 13,
   "id": "controlling-liechtenstein",
   "metadata": {},
   "outputs": [],
   "source": [
    "def calc_π_σ(σ_i, x_i, σ_j, x_j, ρ_ij):\n",
    "    assert x_i + x_j == 1\n",
    "    \n",
    "    σ_p_sqrd = σ_i**2*x_i**2 + σ_j**2*x_j**2 + 2*σ_i*σ_j*x_i*x_j*ρ_ij\n",
    "    return np.sqrt(σ_p_sqrd)"
   ]
  },
  {
   "cell_type": "code",
   "execution_count": 14,
   "id": "clean-integration",
   "metadata": {},
   "outputs": [],
   "source": [
    "r_p = []\n",
    "σ_p = []\n",
    "\n",
    "for x_b in np.arange(0,1.1, 0.1):\n",
    "    x_s = 1-x_b\n",
    "    r_p.append(calc_π_r(r_b, x_b, r_s, x_s)*1e2)\n",
    "    σ_p.append(calc_π_σ(σ_b, x_b, σ_s, x_s, ρ_sb)*1e2)"
   ]
  },
  {
   "cell_type": "code",
   "execution_count": 15,
   "id": "documented-review",
   "metadata": {},
   "outputs": [
    {
     "data": {
      "text/plain": [
       "Text(13, 12, 'Stocks')"
      ]
     },
     "execution_count": 15,
     "metadata": {},
     "output_type": "execute_result"
    },
    {
     "data": {
      "image/png": "[encoded data removed]",
      "text/plain": [
       "<Figure size 842.4x595.44 with 1 Axes>"
      ]
     },
     "metadata": {},
     "output_type": "display_data"
    }
   ],
   "source": [
    "plt.title('Compination of bonds and stocks', size = 18)\n",
    "sns.scatterplot(x=σ_p, y=r_p, color='red')\n",
    "plt.ylim(0, 14)\n",
    "plt.xlim(0, 20)\n",
    "plt.ylabel('$r_p$', size=14)\n",
    "plt.xlabel('$\\sigma_p$', size=14)\n",
    "plt.text(10, 6, 'Bonds', size=13)\n",
    "plt.text(13, 12, 'Stocks', size=13)"
   ]
  },
  {
   "cell_type": "code",
   "execution_count": null,
   "id": "paperback-visit",
   "metadata": {},
   "outputs": [],
   "source": []
  }
 ],
 "metadata": {
  "kernelspec": {
   "display_name": "Python 3",
   "language": "python",
   "name": "python3"
  },
  "language_info": {
   "codemirror_mode": {
    "name": "ipython",
    "version": 3
   },
   "file_extension": ".py",
   "mimetype": "text/x-python",
   "name": "python",
   "nbconvert_exporter": "python",
   "pygments_lexer": "ipython3",
   "version": "3.8.7"
  }
 },
 "nbformat": 4,
 "nbformat_minor": 5
}
